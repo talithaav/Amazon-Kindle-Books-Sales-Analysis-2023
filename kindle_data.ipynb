{
 "cells": [
  {
   "cell_type": "code",
   "execution_count": 1,
   "id": "42af081a-07cb-4ac1-929e-52ac5d002848",
   "metadata": {},
   "outputs": [],
   "source": [
    "# load data\n",
    "import pandas as pd\n",
    "import numpy as np\n",
    "\n",
    "# visualization\n",
    "import matplotlib.pyplot as plt\n",
    "import seaborn as sns"
   ]
  },
  {
   "cell_type": "code",
   "execution_count": 2,
   "id": "ca8e1e3d-8f91-4b69-ae28-9dacaf50da26",
   "metadata": {
    "scrolled": true
   },
   "outputs": [
    {
     "data": {
      "text/html": [
       "<div>\n",
       "<style scoped>\n",
       "    .dataframe tbody tr th:only-of-type {\n",
       "        vertical-align: middle;\n",
       "    }\n",
       "\n",
       "    .dataframe tbody tr th {\n",
       "        vertical-align: top;\n",
       "    }\n",
       "\n",
       "    .dataframe thead th {\n",
       "        text-align: right;\n",
       "    }\n",
       "</style>\n",
       "<table border=\"1\" class=\"dataframe\">\n",
       "  <thead>\n",
       "    <tr style=\"text-align: right;\">\n",
       "      <th></th>\n",
       "      <th>asin</th>\n",
       "      <th>title</th>\n",
       "      <th>author</th>\n",
       "      <th>soldBy</th>\n",
       "      <th>imgUrl</th>\n",
       "      <th>productURL</th>\n",
       "      <th>stars</th>\n",
       "      <th>reviews</th>\n",
       "      <th>price</th>\n",
       "      <th>isKindleUnlimited</th>\n",
       "      <th>category_id</th>\n",
       "      <th>isBestSeller</th>\n",
       "      <th>isEditorsPick</th>\n",
       "      <th>isGoodReadsChoice</th>\n",
       "      <th>publishedDate</th>\n",
       "      <th>category_name</th>\n",
       "    </tr>\n",
       "  </thead>\n",
       "  <tbody>\n",
       "    <tr>\n",
       "      <th>0</th>\n",
       "      <td>B00TZE87S4</td>\n",
       "      <td>Adult Children of Emotionally Immature Parents...</td>\n",
       "      <td>Lindsay C. Gibson</td>\n",
       "      <td>Amazon.com Services LLC</td>\n",
       "      <td>https://m.media-amazon.com/images/I/713KZTsaYp...</td>\n",
       "      <td>https://www.amazon.com/dp/B00TZE87S4</td>\n",
       "      <td>4.8</td>\n",
       "      <td>0</td>\n",
       "      <td>9.99</td>\n",
       "      <td>False</td>\n",
       "      <td>6</td>\n",
       "      <td>True</td>\n",
       "      <td>False</td>\n",
       "      <td>False</td>\n",
       "      <td>2015-06-01</td>\n",
       "      <td>Parenting &amp; Relationships</td>\n",
       "    </tr>\n",
       "    <tr>\n",
       "      <th>1</th>\n",
       "      <td>B08WCKY8MB</td>\n",
       "      <td>From Strength to Strength: Finding Success, Ha...</td>\n",
       "      <td>Arthur C. Brooks</td>\n",
       "      <td>Penguin Group (USA) LLC</td>\n",
       "      <td>https://m.media-amazon.com/images/I/A1LZcJFs9E...</td>\n",
       "      <td>https://www.amazon.com/dp/B08WCKY8MB</td>\n",
       "      <td>4.4</td>\n",
       "      <td>0</td>\n",
       "      <td>16.99</td>\n",
       "      <td>False</td>\n",
       "      <td>6</td>\n",
       "      <td>False</td>\n",
       "      <td>False</td>\n",
       "      <td>False</td>\n",
       "      <td>2022-02-15</td>\n",
       "      <td>Parenting &amp; Relationships</td>\n",
       "    </tr>\n",
       "    <tr>\n",
       "      <th>2</th>\n",
       "      <td>B09KPS84CJ</td>\n",
       "      <td>Good Inside: A Guide to Becoming the Parent Yo...</td>\n",
       "      <td>Becky Kennedy</td>\n",
       "      <td>HarperCollins Publishers</td>\n",
       "      <td>https://m.media-amazon.com/images/I/71RIWM0sv6...</td>\n",
       "      <td>https://www.amazon.com/dp/B09KPS84CJ</td>\n",
       "      <td>4.8</td>\n",
       "      <td>0</td>\n",
       "      <td>16.99</td>\n",
       "      <td>False</td>\n",
       "      <td>6</td>\n",
       "      <td>False</td>\n",
       "      <td>True</td>\n",
       "      <td>False</td>\n",
       "      <td>2022-09-13</td>\n",
       "      <td>Parenting &amp; Relationships</td>\n",
       "    </tr>\n",
       "  </tbody>\n",
       "</table>\n",
       "</div>"
      ],
      "text/plain": [
       "         asin                                              title  \\\n",
       "0  B00TZE87S4  Adult Children of Emotionally Immature Parents...   \n",
       "1  B08WCKY8MB  From Strength to Strength: Finding Success, Ha...   \n",
       "2  B09KPS84CJ  Good Inside: A Guide to Becoming the Parent Yo...   \n",
       "\n",
       "              author                    soldBy  \\\n",
       "0  Lindsay C. Gibson   Amazon.com Services LLC   \n",
       "1   Arthur C. Brooks   Penguin Group (USA) LLC   \n",
       "2      Becky Kennedy  HarperCollins Publishers   \n",
       "\n",
       "                                              imgUrl  \\\n",
       "0  https://m.media-amazon.com/images/I/713KZTsaYp...   \n",
       "1  https://m.media-amazon.com/images/I/A1LZcJFs9E...   \n",
       "2  https://m.media-amazon.com/images/I/71RIWM0sv6...   \n",
       "\n",
       "                             productURL  stars  reviews  price  \\\n",
       "0  https://www.amazon.com/dp/B00TZE87S4    4.8        0   9.99   \n",
       "1  https://www.amazon.com/dp/B08WCKY8MB    4.4        0  16.99   \n",
       "2  https://www.amazon.com/dp/B09KPS84CJ    4.8        0  16.99   \n",
       "\n",
       "   isKindleUnlimited  category_id  isBestSeller  isEditorsPick  \\\n",
       "0              False            6          True          False   \n",
       "1              False            6         False          False   \n",
       "2              False            6         False           True   \n",
       "\n",
       "   isGoodReadsChoice publishedDate              category_name  \n",
       "0              False    2015-06-01  Parenting & Relationships  \n",
       "1              False    2022-02-15  Parenting & Relationships  \n",
       "2              False    2022-09-13  Parenting & Relationships  "
      ]
     },
     "execution_count": 2,
     "metadata": {},
     "output_type": "execute_result"
    }
   ],
   "source": [
    "# read data kindle\n",
    "kindle_data = pd.read_csv(\"kindle_data-v2.csv\")\n",
    "\n",
    "# memastikan tiap kolom tidak mengandung spasi yang tak terlihat\n",
    "kindle_data.columns = kindle_data.columns.str.strip()\n",
    "\n",
    "# menampilkan tiga data teratas kindle\n",
    "kindle_data.head(3)"
   ]
  },
  {
   "cell_type": "code",
   "execution_count": 3,
   "id": "b5c7af1e-9edf-4b18-9c07-5dbfe96f760d",
   "metadata": {},
   "outputs": [
    {
     "data": {
      "text/plain": [
       "Index(['asin', 'title', 'author', 'soldBy', 'imgUrl', 'productURL', 'stars',\n",
       "       'reviews', 'price', 'isKindleUnlimited', 'category_id', 'isBestSeller',\n",
       "       'isEditorsPick', 'isGoodReadsChoice', 'publishedDate', 'category_name'],\n",
       "      dtype='object')"
      ]
     },
     "execution_count": 3,
     "metadata": {},
     "output_type": "execute_result"
    }
   ],
   "source": [
    "# menampilkan daftar kolom di dataset\n",
    "kindle_data.columns"
   ]
  },
  {
   "cell_type": "code",
   "execution_count": 4,
   "id": "2b0c1f59-51a9-4fde-91d9-f94db29a7c24",
   "metadata": {},
   "outputs": [
    {
     "data": {
      "text/html": [
       "<div>\n",
       "<style scoped>\n",
       "    .dataframe tbody tr th:only-of-type {\n",
       "        vertical-align: middle;\n",
       "    }\n",
       "\n",
       "    .dataframe tbody tr th {\n",
       "        vertical-align: top;\n",
       "    }\n",
       "\n",
       "    .dataframe thead th {\n",
       "        text-align: right;\n",
       "    }\n",
       "</style>\n",
       "<table border=\"1\" class=\"dataframe\">\n",
       "  <thead>\n",
       "    <tr style=\"text-align: right;\">\n",
       "      <th></th>\n",
       "      <th>asin</th>\n",
       "      <th>title</th>\n",
       "      <th>author</th>\n",
       "      <th>soldBy</th>\n",
       "      <th>stars</th>\n",
       "      <th>reviews</th>\n",
       "      <th>price</th>\n",
       "      <th>isKindleUnlimited</th>\n",
       "      <th>category_id</th>\n",
       "      <th>isBestSeller</th>\n",
       "      <th>isEditorsPick</th>\n",
       "      <th>isGoodReadsChoice</th>\n",
       "      <th>publishedDate</th>\n",
       "      <th>category_name</th>\n",
       "    </tr>\n",
       "  </thead>\n",
       "  <tbody>\n",
       "    <tr>\n",
       "      <th>0</th>\n",
       "      <td>B00TZE87S4</td>\n",
       "      <td>Adult Children of Emotionally Immature Parents...</td>\n",
       "      <td>Lindsay C. Gibson</td>\n",
       "      <td>Amazon.com Services LLC</td>\n",
       "      <td>4.8</td>\n",
       "      <td>0</td>\n",
       "      <td>9.99</td>\n",
       "      <td>False</td>\n",
       "      <td>6</td>\n",
       "      <td>True</td>\n",
       "      <td>False</td>\n",
       "      <td>False</td>\n",
       "      <td>2015-06-01</td>\n",
       "      <td>Parenting &amp; Relationships</td>\n",
       "    </tr>\n",
       "    <tr>\n",
       "      <th>1</th>\n",
       "      <td>B08WCKY8MB</td>\n",
       "      <td>From Strength to Strength: Finding Success, Ha...</td>\n",
       "      <td>Arthur C. Brooks</td>\n",
       "      <td>Penguin Group (USA) LLC</td>\n",
       "      <td>4.4</td>\n",
       "      <td>0</td>\n",
       "      <td>16.99</td>\n",
       "      <td>False</td>\n",
       "      <td>6</td>\n",
       "      <td>False</td>\n",
       "      <td>False</td>\n",
       "      <td>False</td>\n",
       "      <td>2022-02-15</td>\n",
       "      <td>Parenting &amp; Relationships</td>\n",
       "    </tr>\n",
       "    <tr>\n",
       "      <th>2</th>\n",
       "      <td>B09KPS84CJ</td>\n",
       "      <td>Good Inside: A Guide to Becoming the Parent Yo...</td>\n",
       "      <td>Becky Kennedy</td>\n",
       "      <td>HarperCollins Publishers</td>\n",
       "      <td>4.8</td>\n",
       "      <td>0</td>\n",
       "      <td>16.99</td>\n",
       "      <td>False</td>\n",
       "      <td>6</td>\n",
       "      <td>False</td>\n",
       "      <td>True</td>\n",
       "      <td>False</td>\n",
       "      <td>2022-09-13</td>\n",
       "      <td>Parenting &amp; Relationships</td>\n",
       "    </tr>\n",
       "  </tbody>\n",
       "</table>\n",
       "</div>"
      ],
      "text/plain": [
       "         asin                                              title  \\\n",
       "0  B00TZE87S4  Adult Children of Emotionally Immature Parents...   \n",
       "1  B08WCKY8MB  From Strength to Strength: Finding Success, Ha...   \n",
       "2  B09KPS84CJ  Good Inside: A Guide to Becoming the Parent Yo...   \n",
       "\n",
       "              author                    soldBy  stars  reviews  price  \\\n",
       "0  Lindsay C. Gibson   Amazon.com Services LLC    4.8        0   9.99   \n",
       "1   Arthur C. Brooks   Penguin Group (USA) LLC    4.4        0  16.99   \n",
       "2      Becky Kennedy  HarperCollins Publishers    4.8        0  16.99   \n",
       "\n",
       "   isKindleUnlimited  category_id  isBestSeller  isEditorsPick  \\\n",
       "0              False            6          True          False   \n",
       "1              False            6         False          False   \n",
       "2              False            6         False           True   \n",
       "\n",
       "   isGoodReadsChoice publishedDate              category_name  \n",
       "0              False    2015-06-01  Parenting & Relationships  \n",
       "1              False    2022-02-15  Parenting & Relationships  \n",
       "2              False    2022-09-13  Parenting & Relationships  "
      ]
     },
     "execution_count": 4,
     "metadata": {},
     "output_type": "execute_result"
    }
   ],
   "source": [
    "# menghapus kolom yang tidak diperlukan\n",
    "\n",
    "kindle_data = kindle_data.drop(['imgUrl', 'productURL'], axis=1)\n",
    "kindle_data.head(3)"
   ]
  },
  {
   "cell_type": "code",
   "execution_count": 5,
   "id": "ae823c58-23fc-47f2-842b-a8169c71392b",
   "metadata": {},
   "outputs": [
    {
     "data": {
      "text/plain": [
       "asin                     0\n",
       "title                    0\n",
       "author                 425\n",
       "soldBy                9233\n",
       "stars                    0\n",
       "reviews                  0\n",
       "price                    0\n",
       "isKindleUnlimited        0\n",
       "category_id              0\n",
       "isBestSeller             0\n",
       "isEditorsPick            0\n",
       "isGoodReadsChoice        0\n",
       "publishedDate        49016\n",
       "category_name            0\n",
       "dtype: int64"
      ]
     },
     "execution_count": 5,
     "metadata": {},
     "output_type": "execute_result"
    }
   ],
   "source": [
    "# identifikasi missing value\n",
    "\n",
    "kindle_data.isna().sum()"
   ]
  },
  {
   "cell_type": "code",
   "execution_count": 6,
   "id": "3106f1db-d7eb-4337-93c6-3ab1352d8eb8",
   "metadata": {},
   "outputs": [
    {
     "data": {
      "text/plain": [
       "publishedDate        36.825893\n",
       "soldBy                6.936785\n",
       "author                0.319304\n",
       "asin                  0.000000\n",
       "title                 0.000000\n",
       "stars                 0.000000\n",
       "reviews               0.000000\n",
       "price                 0.000000\n",
       "isKindleUnlimited     0.000000\n",
       "category_id           0.000000\n",
       "isBestSeller          0.000000\n",
       "isEditorsPick         0.000000\n",
       "isGoodReadsChoice     0.000000\n",
       "category_name         0.000000\n",
       "dtype: float64"
      ]
     },
     "execution_count": 6,
     "metadata": {},
     "output_type": "execute_result"
    }
   ],
   "source": [
    "# Persentase missing value pada tiap kolom\n",
    "kindle_data.isnull().sum().sort_values(ascending=False)/len(kindle_data)*100"
   ]
  },
  {
   "cell_type": "code",
   "execution_count": 7,
   "id": "605390e2-856b-4194-8ca8-85ff41cae8c6",
   "metadata": {},
   "outputs": [
    {
     "name": "stdout",
     "output_type": "stream",
     "text": [
      "soldBy\n",
      "Amazon.com Services LLC                    68.426321\n",
      "Random House LLC                            4.740492\n",
      "Hachette Book Group                         3.823394\n",
      "Penguin Group (USA) LLC                     3.540030\n",
      "HarperCollins Publishers                    3.494014\n",
      "Macmillan                                   2.540587\n",
      "Simon and Schuster Digital Sales Inc        2.459857\n",
      "Penguin Random House Publisher Services     1.929458\n",
      "JOHN WILEY AND SONS INC                     1.926229\n",
      "Simon & Schuster Digital Sales Inc.         1.411168\n",
      "Pearson Education,Inc.                      1.059183\n",
      "HarperCollins Publishing                    0.913869\n",
      "Penguin Random House Grupo Editorial        0.762095\n",
      "Cengage Learning                            0.605478\n",
      "Editorial Planeta, S.A.U.                   0.488419\n",
      "Harlequin Digital Sales Corp.               0.355214\n",
      "PRH UK                                      0.289015\n",
      "Macmillan Higher Education                  0.171149\n",
      "De Marque                                   0.156617\n",
      "Yen Press LLC                               0.130783\n",
      "Disney Book Group                           0.107371\n",
      "W. W. Norton & Company                      0.096877\n",
      "Harper Collins                              0.092033\n",
      "Scholastic Trade Publisher                  0.082345\n",
      "Marvel Entertainment US                     0.072657\n",
      "Games Workshop                              0.063777\n",
      "INTERFORUM                                  0.038751\n",
      "Random House ZA                             0.036329\n",
      "Pottermore                                  0.031485\n",
      "Gallimard Lt.                               0.029870\n",
      "Flammarion Lt.                              0.022605\n",
      "EDIGITA                                     0.019375\n",
      "Random House NZ                             0.011302\n",
      "Random House India                          0.010495\n",
      "GeMS SpA                                    0.010495\n",
      "Immat&eacute;riel fr                        0.009688\n",
      "Amazon.com                                  0.009688\n",
      "RH AU                                       0.008880\n",
      "Penguin Random House Australia Pty Ltd      0.007266\n",
      "Giunti Editore S.p.A.                       0.002422\n",
      "Volumen                                     0.002422\n",
      "DC Comics                                   0.002422\n",
      "Book Republic                               0.001615\n",
      "Newton Compton                              0.001615\n",
      "Versilio                                    0.001615\n",
      "Amazon Digital Services LLC HN              0.000807\n",
      "Amazon Digital Services LLC GU              0.000807\n",
      "Amazon Digital Services LLC MK              0.000807\n",
      "RCS MediaGroup S.p.A.                       0.000807\n",
      "Name: proportion, dtype: float64\n"
     ]
    }
   ],
   "source": [
    "# Hitung distribusi persentase soldBy\n",
    "soldby_distribution = kindle_data['soldBy'].value_counts(normalize=True) * 100\n",
    "\n",
    "# Tampilkan hasil\n",
    "print(soldby_distribution)"
   ]
  },
  {
   "cell_type": "code",
   "execution_count": 8,
   "id": "45de991a-ceb9-4db2-8776-41cfe400506c",
   "metadata": {},
   "outputs": [],
   "source": [
    "# Hapus kolom publishedDate\n",
    "kindle_data = kindle_data.drop(['publishedDate'], axis=1)\n",
    "\n",
    "# Input missing value 'soldBy' dengan nilai modus\n",
    "soldBy_mode = kindle_data['soldBy'].mode()[0]\n",
    "kindle_data['soldBy'] = kindle_data['soldBy'].fillna(soldBy_mode)\n",
    "\n",
    "# Input missing value author dengan \"Unknown\"\n",
    "kindle_data['author'] = kindle_data['author'].fillna(\"Unknown\")\n"
   ]
  },
  {
   "cell_type": "code",
   "execution_count": 9,
   "id": "b8fa0762-f825-467a-9055-7b86fa485185",
   "metadata": {},
   "outputs": [
    {
     "data": {
      "text/plain": [
       "asin                 0.0\n",
       "title                0.0\n",
       "author               0.0\n",
       "soldBy               0.0\n",
       "stars                0.0\n",
       "reviews              0.0\n",
       "price                0.0\n",
       "isKindleUnlimited    0.0\n",
       "category_id          0.0\n",
       "isBestSeller         0.0\n",
       "isEditorsPick        0.0\n",
       "isGoodReadsChoice    0.0\n",
       "category_name        0.0\n",
       "dtype: float64"
      ]
     },
     "execution_count": 9,
     "metadata": {},
     "output_type": "execute_result"
    }
   ],
   "source": [
    "# Persentase missing value pada tiap kolom\n",
    "kindle_data.isnull().sum().sort_values(ascending=False)/len(kindle_data)*100"
   ]
  },
  {
   "cell_type": "code",
   "execution_count": 10,
   "id": "0d074603-c25e-4647-92dd-625a5d7503e8",
   "metadata": {},
   "outputs": [
    {
     "name": "stdout",
     "output_type": "stream",
     "text": [
      "Jumlah data duplikat berdasarkan kolom asin = 0\n"
     ]
    }
   ],
   "source": [
    "# Menyeleksi data yang dikategorikan sebagai data duplikat berdasarkan kolom asin\n",
    "duplicate_asin = kindle_data[kindle_data.duplicated(subset='asin', keep=False)]\n",
    "print(f\"Jumlah data duplikat berdasarkan kolom asin = {len(duplicate_asin)}\")"
   ]
  },
  {
   "cell_type": "code",
   "execution_count": 11,
   "id": "148c6885-d0b1-4538-a490-512f2d55776e",
   "metadata": {},
   "outputs": [
    {
     "name": "stdout",
     "output_type": "stream",
     "text": [
      "Jumlah data duplikat namun berbeda code asin = 12\n"
     ]
    }
   ],
   "source": [
    "# Menyeleksi data yang dikategorikan sebagai data duplikat namun berbeda code asin\n",
    "duplicate_non_asin = kindle_data[kindle_data.duplicated(subset=['title', 'author', 'soldBy', 'stars','reviews', 'price',\n",
    "                                                                'isKindleUnlimited', 'category_id', 'isBestSeller','isEditorsPick',\n",
    "                                                                'isGoodReadsChoice', 'category_name'], keep=False)]\n",
    "print(f\"Jumlah data duplikat namun berbeda code asin = {len(duplicate_non_asin)}\")"
   ]
  },
  {
   "cell_type": "code",
   "execution_count": 12,
   "id": "770d58aa-ed60-4b52-a9b3-6656b5f58ae2",
   "metadata": {},
   "outputs": [],
   "source": [
    "# Menghapus data duplikat\n",
    "kindle_data.drop_duplicates(subset=['title', 'author', 'soldBy', 'stars',\n",
    "       'reviews', 'price', 'isKindleUnlimited', 'category_id', 'isBestSeller',\n",
    "       'isEditorsPick', 'isGoodReadsChoice', 'category_name'], keep='first',inplace=True, ignore_index=True)"
   ]
  },
  {
   "cell_type": "code",
   "execution_count": 13,
   "id": "a1f0a2dd-5cb5-4bd5-a19d-cee5b023c03e",
   "metadata": {},
   "outputs": [
    {
     "data": {
      "text/html": [
       "<div>\n",
       "<style scoped>\n",
       "    .dataframe tbody tr th:only-of-type {\n",
       "        vertical-align: middle;\n",
       "    }\n",
       "\n",
       "    .dataframe tbody tr th {\n",
       "        vertical-align: top;\n",
       "    }\n",
       "\n",
       "    .dataframe thead th {\n",
       "        text-align: right;\n",
       "    }\n",
       "</style>\n",
       "<table border=\"1\" class=\"dataframe\">\n",
       "  <thead>\n",
       "    <tr style=\"text-align: right;\">\n",
       "      <th></th>\n",
       "      <th>asin</th>\n",
       "      <th>title</th>\n",
       "      <th>author</th>\n",
       "      <th>soldBy</th>\n",
       "      <th>stars</th>\n",
       "      <th>reviews</th>\n",
       "      <th>price</th>\n",
       "      <th>isKindleUnlimited</th>\n",
       "      <th>category_id</th>\n",
       "      <th>isBestSeller</th>\n",
       "      <th>isEditorsPick</th>\n",
       "      <th>isGoodReadsChoice</th>\n",
       "      <th>category_name</th>\n",
       "    </tr>\n",
       "  </thead>\n",
       "  <tbody>\n",
       "    <tr>\n",
       "      <th>13104</th>\n",
       "      <td>B00QXKGOCE</td>\n",
       "      <td>Single Variable Calculus: Early Transcendentals</td>\n",
       "      <td>James Stewart</td>\n",
       "      <td>Cengage Learning</td>\n",
       "      <td>4.3</td>\n",
       "      <td>0</td>\n",
       "      <td>46.99</td>\n",
       "      <td>False</td>\n",
       "      <td>15</td>\n",
       "      <td>False</td>\n",
       "      <td>False</td>\n",
       "      <td>False</td>\n",
       "      <td>Science &amp; Math</td>\n",
       "    </tr>\n",
       "  </tbody>\n",
       "</table>\n",
       "</div>"
      ],
      "text/plain": [
       "             asin                                            title  \\\n",
       "13104  B00QXKGOCE  Single Variable Calculus: Early Transcendentals   \n",
       "\n",
       "              author            soldBy  stars  reviews  price  \\\n",
       "13104  James Stewart  Cengage Learning    4.3        0  46.99   \n",
       "\n",
       "       isKindleUnlimited  category_id  isBestSeller  isEditorsPick  \\\n",
       "13104              False           15         False          False   \n",
       "\n",
       "       isGoodReadsChoice   category_name  \n",
       "13104              False  Science & Math  "
      ]
     },
     "execution_count": 13,
     "metadata": {},
     "output_type": "execute_result"
    }
   ],
   "source": [
    "# cek salah satu data duplikat\n",
    "kindle_data.loc[kindle_data['title'] == 'Single Variable Calculus: Early Transcendentals']"
   ]
  },
  {
   "cell_type": "code",
   "execution_count": 14,
   "id": "365a2710-2968-4535-8ea4-d5c563d17d52",
   "metadata": {
    "scrolled": true
   },
   "outputs": [
    {
     "name": "stdout",
     "output_type": "stream",
     "text": [
      "Jumlah data duplikat dengan jumlah reviews yg berbeda = 4\n"
     ]
    }
   ],
   "source": [
    "# Menyeleksi data yang dikategorikan sebagai data duplikat dengan jumlah reviews yg berbeda\n",
    "duplicate_reviews = kindle_data[kindle_data.duplicated(subset=['title', 'author','soldBy','stars', 'price', 'category_name'], \n",
    "                                                       keep=False)]\n",
    "print(f\"Jumlah data duplikat dengan jumlah reviews yg berbeda = {len(duplicate_reviews)}\")"
   ]
  },
  {
   "cell_type": "code",
   "execution_count": 15,
   "id": "aefcf466-a763-4f98-b49b-199002678c32",
   "metadata": {},
   "outputs": [],
   "source": [
    "# Agregasi dengan groupby\n",
    "kindle_data = kindle_data.groupby(\n",
    "    ['title', 'author', 'soldBy', 'stars', 'price', 'category_name'],\n",
    "    as_index=False).agg({\n",
    "    'reviews': 'sum',\n",
    "    'asin': 'first',\n",
    "    'isKindleUnlimited': 'first',\n",
    "    'category_id': 'first',\n",
    "    'isBestSeller': 'first',\n",
    "    'isEditorsPick': 'first',\n",
    "    'isGoodReadsChoice': 'first',})"
   ]
  },
  {
   "cell_type": "code",
   "execution_count": 16,
   "id": "33e291dc-7314-410b-aa70-2c7579bbde58",
   "metadata": {},
   "outputs": [
    {
     "data": {
      "text/html": [
       "<div>\n",
       "<style scoped>\n",
       "    .dataframe tbody tr th:only-of-type {\n",
       "        vertical-align: middle;\n",
       "    }\n",
       "\n",
       "    .dataframe tbody tr th {\n",
       "        vertical-align: top;\n",
       "    }\n",
       "\n",
       "    .dataframe thead th {\n",
       "        text-align: right;\n",
       "    }\n",
       "</style>\n",
       "<table border=\"1\" class=\"dataframe\">\n",
       "  <thead>\n",
       "    <tr style=\"text-align: right;\">\n",
       "      <th></th>\n",
       "      <th>title</th>\n",
       "      <th>author</th>\n",
       "      <th>soldBy</th>\n",
       "      <th>stars</th>\n",
       "      <th>price</th>\n",
       "      <th>category_name</th>\n",
       "      <th>reviews</th>\n",
       "      <th>asin</th>\n",
       "      <th>isKindleUnlimited</th>\n",
       "      <th>category_id</th>\n",
       "      <th>isBestSeller</th>\n",
       "      <th>isEditorsPick</th>\n",
       "      <th>isGoodReadsChoice</th>\n",
       "    </tr>\n",
       "  </thead>\n",
       "  <tbody>\n",
       "    <tr>\n",
       "      <th>25185</th>\n",
       "      <td>DK Eyewitness New Zealand (Travel Guide)</td>\n",
       "      <td>DK Eyewitness</td>\n",
       "      <td>Penguin Group (USA) LLC</td>\n",
       "      <td>4.6</td>\n",
       "      <td>10.99</td>\n",
       "      <td>Travel</td>\n",
       "      <td>122</td>\n",
       "      <td>B0988Z1ZD6</td>\n",
       "      <td>False</td>\n",
       "      <td>24</td>\n",
       "      <td>False</td>\n",
       "      <td>False</td>\n",
       "      <td>False</td>\n",
       "    </tr>\n",
       "  </tbody>\n",
       "</table>\n",
       "</div>"
      ],
      "text/plain": [
       "                                          title         author  \\\n",
       "25185  DK Eyewitness New Zealand (Travel Guide)  DK Eyewitness   \n",
       "\n",
       "                        soldBy  stars  price category_name  reviews  \\\n",
       "25185  Penguin Group (USA) LLC    4.6  10.99        Travel      122   \n",
       "\n",
       "             asin  isKindleUnlimited  category_id  isBestSeller  \\\n",
       "25185  B0988Z1ZD6              False           24         False   \n",
       "\n",
       "       isEditorsPick  isGoodReadsChoice  \n",
       "25185          False              False  "
      ]
     },
     "execution_count": 16,
     "metadata": {},
     "output_type": "execute_result"
    }
   ],
   "source": [
    "# cek salah satu data duplikat\n",
    "kindle_data.loc[kindle_data['title'] == 'DK Eyewitness New Zealand (Travel Guide)']"
   ]
  },
  {
   "cell_type": "code",
   "execution_count": 17,
   "id": "e7923c6a-0b3c-4fec-b172-1a229ae16d66",
   "metadata": {},
   "outputs": [
    {
     "name": "stdout",
     "output_type": "stream",
     "text": [
      "Jumlah data duplikat dengan rerata stars yg berbeda = 100\n"
     ]
    }
   ],
   "source": [
    "# Menyeleksi data yang dikategorikan sebagai data duplikat dengan rerata stars yg berbeda\n",
    "duplicate_stars = kindle_data[kindle_data.duplicated(subset=['title', 'author','soldBy','reviews', 'price', 'category_name'], \n",
    "                                                     keep=False)]\n",
    "print(f\"Jumlah data duplikat dengan rerata stars yg berbeda = {len(duplicate_stars)}\")"
   ]
  },
  {
   "cell_type": "code",
   "execution_count": 18,
   "id": "fd0c5191-5fe5-44fd-a23d-b5f70ba4c5c8",
   "metadata": {},
   "outputs": [
    {
     "data": {
      "text/html": [
       "<div>\n",
       "<style scoped>\n",
       "    .dataframe tbody tr th:only-of-type {\n",
       "        vertical-align: middle;\n",
       "    }\n",
       "\n",
       "    .dataframe tbody tr th {\n",
       "        vertical-align: top;\n",
       "    }\n",
       "\n",
       "    .dataframe thead th {\n",
       "        text-align: right;\n",
       "    }\n",
       "</style>\n",
       "<table border=\"1\" class=\"dataframe\">\n",
       "  <thead>\n",
       "    <tr style=\"text-align: right;\">\n",
       "      <th></th>\n",
       "      <th>title</th>\n",
       "      <th>author</th>\n",
       "      <th>soldBy</th>\n",
       "      <th>stars</th>\n",
       "      <th>price</th>\n",
       "      <th>category_name</th>\n",
       "      <th>reviews</th>\n",
       "      <th>asin</th>\n",
       "      <th>isKindleUnlimited</th>\n",
       "      <th>category_id</th>\n",
       "      <th>isBestSeller</th>\n",
       "      <th>isEditorsPick</th>\n",
       "      <th>isGoodReadsChoice</th>\n",
       "    </tr>\n",
       "  </thead>\n",
       "  <tbody>\n",
       "    <tr>\n",
       "      <th>131351</th>\n",
       "      <td>Writing about Writing</td>\n",
       "      <td>Elizabeth Wardle</td>\n",
       "      <td>Macmillan Higher Education</td>\n",
       "      <td>0.0</td>\n",
       "      <td>36.07</td>\n",
       "      <td>Reference</td>\n",
       "      <td>0</td>\n",
       "      <td>B0BJ114G3Y</td>\n",
       "      <td>False</td>\n",
       "      <td>22</td>\n",
       "      <td>False</td>\n",
       "      <td>False</td>\n",
       "      <td>False</td>\n",
       "    </tr>\n",
       "    <tr>\n",
       "      <th>131352</th>\n",
       "      <td>Writing about Writing</td>\n",
       "      <td>Elizabeth Wardle</td>\n",
       "      <td>Macmillan Higher Education</td>\n",
       "      <td>4.1</td>\n",
       "      <td>36.07</td>\n",
       "      <td>Reference</td>\n",
       "      <td>0</td>\n",
       "      <td>B07WQYX4TF</td>\n",
       "      <td>False</td>\n",
       "      <td>22</td>\n",
       "      <td>False</td>\n",
       "      <td>False</td>\n",
       "      <td>False</td>\n",
       "    </tr>\n",
       "  </tbody>\n",
       "</table>\n",
       "</div>"
      ],
      "text/plain": [
       "                        title            author                      soldBy  \\\n",
       "131351  Writing about Writing  Elizabeth Wardle  Macmillan Higher Education   \n",
       "131352  Writing about Writing  Elizabeth Wardle  Macmillan Higher Education   \n",
       "\n",
       "        stars  price category_name  reviews        asin  isKindleUnlimited  \\\n",
       "131351    0.0  36.07     Reference        0  B0BJ114G3Y              False   \n",
       "131352    4.1  36.07     Reference        0  B07WQYX4TF              False   \n",
       "\n",
       "        category_id  isBestSeller  isEditorsPick  isGoodReadsChoice  \n",
       "131351           22         False          False              False  \n",
       "131352           22         False          False              False  "
      ]
     },
     "execution_count": 18,
     "metadata": {},
     "output_type": "execute_result"
    }
   ],
   "source": [
    "# cek salah satu data duplikat\n",
    "kindle_data.loc[kindle_data['title'] == 'Writing about Writing']"
   ]
  },
  {
   "cell_type": "code",
   "execution_count": 19,
   "id": "1a05d6c1-a5db-419a-9cd6-55796f416258",
   "metadata": {},
   "outputs": [],
   "source": [
    "# Ubah data yg kolom stars nya 0 menjadi NaN supaya data tidak salah hitung saat dihitung mean nya\n",
    "kindle_data['stars'] = kindle_data['stars'].replace(0, np.nan)\n",
    "\n",
    "# Agregasi dengan groupby\n",
    "kindle_data = kindle_data.groupby(\n",
    "    ['title', 'author','soldBy','reviews', 'price', 'category_name'],\n",
    "    as_index=False).agg({\n",
    "    'stars': 'mean',\n",
    "    'asin': 'first',\n",
    "    'isKindleUnlimited': 'first',\n",
    "    'category_id': 'first',\n",
    "    'isBestSeller': 'first',\n",
    "    'isEditorsPick': 'first',\n",
    "    'isGoodReadsChoice': 'first',})"
   ]
  },
  {
   "cell_type": "code",
   "execution_count": 20,
   "id": "10f4ead6-48db-4ca4-af15-d06d071ee658",
   "metadata": {},
   "outputs": [
    {
     "data": {
      "text/html": [
       "<div>\n",
       "<style scoped>\n",
       "    .dataframe tbody tr th:only-of-type {\n",
       "        vertical-align: middle;\n",
       "    }\n",
       "\n",
       "    .dataframe tbody tr th {\n",
       "        vertical-align: top;\n",
       "    }\n",
       "\n",
       "    .dataframe thead th {\n",
       "        text-align: right;\n",
       "    }\n",
       "</style>\n",
       "<table border=\"1\" class=\"dataframe\">\n",
       "  <thead>\n",
       "    <tr style=\"text-align: right;\">\n",
       "      <th></th>\n",
       "      <th>title</th>\n",
       "      <th>author</th>\n",
       "      <th>soldBy</th>\n",
       "      <th>reviews</th>\n",
       "      <th>price</th>\n",
       "      <th>category_name</th>\n",
       "      <th>stars</th>\n",
       "      <th>asin</th>\n",
       "      <th>isKindleUnlimited</th>\n",
       "      <th>category_id</th>\n",
       "      <th>isBestSeller</th>\n",
       "      <th>isEditorsPick</th>\n",
       "      <th>isGoodReadsChoice</th>\n",
       "    </tr>\n",
       "  </thead>\n",
       "  <tbody>\n",
       "    <tr>\n",
       "      <th>131302</th>\n",
       "      <td>Writing about Writing</td>\n",
       "      <td>Elizabeth Wardle</td>\n",
       "      <td>Macmillan Higher Education</td>\n",
       "      <td>0</td>\n",
       "      <td>36.07</td>\n",
       "      <td>Reference</td>\n",
       "      <td>4.1</td>\n",
       "      <td>B0BJ114G3Y</td>\n",
       "      <td>False</td>\n",
       "      <td>22</td>\n",
       "      <td>False</td>\n",
       "      <td>False</td>\n",
       "      <td>False</td>\n",
       "    </tr>\n",
       "  </tbody>\n",
       "</table>\n",
       "</div>"
      ],
      "text/plain": [
       "                        title            author                      soldBy  \\\n",
       "131302  Writing about Writing  Elizabeth Wardle  Macmillan Higher Education   \n",
       "\n",
       "        reviews  price category_name  stars        asin  isKindleUnlimited  \\\n",
       "131302        0  36.07     Reference    4.1  B0BJ114G3Y              False   \n",
       "\n",
       "        category_id  isBestSeller  isEditorsPick  isGoodReadsChoice  \n",
       "131302           22         False          False              False  "
      ]
     },
     "execution_count": 20,
     "metadata": {},
     "output_type": "execute_result"
    }
   ],
   "source": [
    "# cek salah satu data duplikat\n",
    "kindle_data.loc[kindle_data['title'] == 'Writing about Writing']"
   ]
  },
  {
   "cell_type": "code",
   "execution_count": 21,
   "id": "5ac73772-3b61-4ec1-8d2b-4e3e74352ae4",
   "metadata": {},
   "outputs": [],
   "source": [
    "# mengubah nilai stars yang bernilai NaN menjadi 0 kembali\n",
    "kindle_data['stars'] = kindle_data['stars'].replace(np.nan, 0)"
   ]
  },
  {
   "cell_type": "code",
   "execution_count": 22,
   "id": "78329f93-0cbc-43e0-876a-7eae520006a2",
   "metadata": {},
   "outputs": [
    {
     "data": {
      "text/html": [
       "<div>\n",
       "<style scoped>\n",
       "    .dataframe tbody tr th:only-of-type {\n",
       "        vertical-align: middle;\n",
       "    }\n",
       "\n",
       "    .dataframe tbody tr th {\n",
       "        vertical-align: top;\n",
       "    }\n",
       "\n",
       "    .dataframe thead th {\n",
       "        text-align: right;\n",
       "    }\n",
       "</style>\n",
       "<table border=\"1\" class=\"dataframe\">\n",
       "  <thead>\n",
       "    <tr style=\"text-align: right;\">\n",
       "      <th></th>\n",
       "      <th>reviews</th>\n",
       "      <th>price</th>\n",
       "      <th>stars</th>\n",
       "      <th>category_id</th>\n",
       "    </tr>\n",
       "  </thead>\n",
       "  <tbody>\n",
       "    <tr>\n",
       "      <th>count</th>\n",
       "      <td>133044.000000</td>\n",
       "      <td>133044.000000</td>\n",
       "      <td>133044.000000</td>\n",
       "      <td>133044.000000</td>\n",
       "    </tr>\n",
       "    <tr>\n",
       "      <th>mean</th>\n",
       "      <td>887.762627</td>\n",
       "      <td>15.116903</td>\n",
       "      <td>4.404590</td>\n",
       "      <td>16.286642</td>\n",
       "    </tr>\n",
       "    <tr>\n",
       "      <th>std</th>\n",
       "      <td>5105.972412</td>\n",
       "      <td>22.235318</td>\n",
       "      <td>0.744177</td>\n",
       "      <td>8.418266</td>\n",
       "    </tr>\n",
       "    <tr>\n",
       "      <th>min</th>\n",
       "      <td>0.000000</td>\n",
       "      <td>0.000000</td>\n",
       "      <td>0.000000</td>\n",
       "      <td>1.000000</td>\n",
       "    </tr>\n",
       "    <tr>\n",
       "      <th>25%</th>\n",
       "      <td>0.000000</td>\n",
       "      <td>4.990000</td>\n",
       "      <td>4.400000</td>\n",
       "      <td>9.000000</td>\n",
       "    </tr>\n",
       "    <tr>\n",
       "      <th>50%</th>\n",
       "      <td>4.000000</td>\n",
       "      <td>9.990000</td>\n",
       "      <td>4.500000</td>\n",
       "      <td>16.000000</td>\n",
       "    </tr>\n",
       "    <tr>\n",
       "      <th>75%</th>\n",
       "      <td>366.000000</td>\n",
       "      <td>14.990000</td>\n",
       "      <td>4.700000</td>\n",
       "      <td>23.000000</td>\n",
       "    </tr>\n",
       "    <tr>\n",
       "      <th>max</th>\n",
       "      <td>618227.000000</td>\n",
       "      <td>682.000000</td>\n",
       "      <td>5.000000</td>\n",
       "      <td>31.000000</td>\n",
       "    </tr>\n",
       "  </tbody>\n",
       "</table>\n",
       "</div>"
      ],
      "text/plain": [
       "             reviews          price          stars    category_id\n",
       "count  133044.000000  133044.000000  133044.000000  133044.000000\n",
       "mean      887.762627      15.116903       4.404590      16.286642\n",
       "std      5105.972412      22.235318       0.744177       8.418266\n",
       "min         0.000000       0.000000       0.000000       1.000000\n",
       "25%         0.000000       4.990000       4.400000       9.000000\n",
       "50%         4.000000       9.990000       4.500000      16.000000\n",
       "75%       366.000000      14.990000       4.700000      23.000000\n",
       "max    618227.000000     682.000000       5.000000      31.000000"
      ]
     },
     "execution_count": 22,
     "metadata": {},
     "output_type": "execute_result"
    }
   ],
   "source": [
    "# Cek statistik deskriptif setelah menangani duplicate value\n",
    "kindle_data.describe()"
   ]
  },
  {
   "cell_type": "code",
   "execution_count": 23,
   "id": "fab03976-408f-47dc-9eaf-2a18fce06a63",
   "metadata": {},
   "outputs": [
    {
     "name": "stdout",
     "output_type": "stream",
     "text": [
      "4063 baris dengan price = 0 telah dihapus.\n"
     ]
    }
   ],
   "source": [
    "# hapus data dengan nilai price = 0\n",
    "before = len(kindle_data)\n",
    "kindle_data = kindle_data[kindle_data['price'] != 0]\n",
    "after = len(kindle_data)\n",
    "print(f\"{before - after} baris dengan price = 0 telah dihapus.\")"
   ]
  },
  {
   "cell_type": "code",
   "execution_count": 24,
   "id": "badf5133-f823-42dc-bc9f-a964cd7058dd",
   "metadata": {},
   "outputs": [
    {
     "data": {
      "text/html": [
       "<div>\n",
       "<style scoped>\n",
       "    .dataframe tbody tr th:only-of-type {\n",
       "        vertical-align: middle;\n",
       "    }\n",
       "\n",
       "    .dataframe tbody tr th {\n",
       "        vertical-align: top;\n",
       "    }\n",
       "\n",
       "    .dataframe thead th {\n",
       "        text-align: right;\n",
       "    }\n",
       "</style>\n",
       "<table border=\"1\" class=\"dataframe\">\n",
       "  <thead>\n",
       "    <tr style=\"text-align: right;\">\n",
       "      <th></th>\n",
       "      <th>reviews</th>\n",
       "      <th>price</th>\n",
       "      <th>stars</th>\n",
       "      <th>category_id</th>\n",
       "    </tr>\n",
       "  </thead>\n",
       "  <tbody>\n",
       "    <tr>\n",
       "      <th>count</th>\n",
       "      <td>128981.000000</td>\n",
       "      <td>128981.000000</td>\n",
       "      <td>128981.000000</td>\n",
       "      <td>128981.000000</td>\n",
       "    </tr>\n",
       "    <tr>\n",
       "      <th>mean</th>\n",
       "      <td>847.199727</td>\n",
       "      <td>15.593097</td>\n",
       "      <td>4.405184</td>\n",
       "      <td>16.215877</td>\n",
       "    </tr>\n",
       "    <tr>\n",
       "      <th>std</th>\n",
       "      <td>4863.522486</td>\n",
       "      <td>22.417814</td>\n",
       "      <td>0.744257</td>\n",
       "      <td>8.419084</td>\n",
       "    </tr>\n",
       "    <tr>\n",
       "      <th>min</th>\n",
       "      <td>0.000000</td>\n",
       "      <td>0.500000</td>\n",
       "      <td>0.000000</td>\n",
       "      <td>1.000000</td>\n",
       "    </tr>\n",
       "    <tr>\n",
       "      <th>25%</th>\n",
       "      <td>0.000000</td>\n",
       "      <td>5.990000</td>\n",
       "      <td>4.400000</td>\n",
       "      <td>9.000000</td>\n",
       "    </tr>\n",
       "    <tr>\n",
       "      <th>50%</th>\n",
       "      <td>5.000000</td>\n",
       "      <td>9.990000</td>\n",
       "      <td>4.500000</td>\n",
       "      <td>16.000000</td>\n",
       "    </tr>\n",
       "    <tr>\n",
       "      <th>75%</th>\n",
       "      <td>363.000000</td>\n",
       "      <td>14.990000</td>\n",
       "      <td>4.700000</td>\n",
       "      <td>23.000000</td>\n",
       "    </tr>\n",
       "    <tr>\n",
       "      <th>max</th>\n",
       "      <td>618227.000000</td>\n",
       "      <td>682.000000</td>\n",
       "      <td>5.000000</td>\n",
       "      <td>31.000000</td>\n",
       "    </tr>\n",
       "  </tbody>\n",
       "</table>\n",
       "</div>"
      ],
      "text/plain": [
       "             reviews          price          stars    category_id\n",
       "count  128981.000000  128981.000000  128981.000000  128981.000000\n",
       "mean      847.199727      15.593097       4.405184      16.215877\n",
       "std      4863.522486      22.417814       0.744257       8.419084\n",
       "min         0.000000       0.500000       0.000000       1.000000\n",
       "25%         0.000000       5.990000       4.400000       9.000000\n",
       "50%         5.000000       9.990000       4.500000      16.000000\n",
       "75%       363.000000      14.990000       4.700000      23.000000\n",
       "max    618227.000000     682.000000       5.000000      31.000000"
      ]
     },
     "execution_count": 24,
     "metadata": {},
     "output_type": "execute_result"
    }
   ],
   "source": [
    "# Cek statistik deskriptif\n",
    "kindle_data.describe()"
   ]
  },
  {
   "cell_type": "code",
   "execution_count": 25,
   "id": "5dea1d4d-60d5-451f-9783-94094c237251",
   "metadata": {},
   "outputs": [
    {
     "name": "stdout",
     "output_type": "stream",
     "text": [
      "Total columns which has outliers: 3\n"
     ]
    }
   ],
   "source": [
    "outlier_columns = ['reviews','price', 'stars']\n",
    "\n",
    "print(f\"Total columns which has outliers: {len(outlier_columns)}\")"
   ]
  },
  {
   "cell_type": "code",
   "execution_count": 26,
   "id": "98be6c6d-2fb1-4744-8eb3-ccf3e8dc977b",
   "metadata": {},
   "outputs": [
    {
     "name": "stderr",
     "output_type": "stream",
     "text": [
      "C:\\Users\\talit\\AppData\\Local\\Temp\\ipykernel_13308\\577966690.py:13: UserWarning: FigureCanvasAgg is non-interactive, and thus cannot be shown\n",
      "  fig.show()\n"
     ]
    },
    {
     "data": {
      "image/png": "[encoded data removed]",
      "text/plain": [
       "<Figure size 800x1000 with 3 Axes>"
      ]
     },
     "metadata": {},
     "output_type": "display_data"
    }
   ],
   "source": [
    "# create subplots with 4x2 grids and size 10x10\n",
    "fig, ax = plt.subplots(3, 1, figsize=(8, 10))\n",
    "\n",
    "# Loop untuk buat boxplot tiap kolom\n",
    "for i in range(3):\n",
    "    ax[i].boxplot(kindle_data[outlier_columns[i]], vert=False)\n",
    "    ax[i].set_title(outlier_columns[i], fontsize=12)\n",
    "\n",
    "\n",
    "# make sure layout is not overlapping\n",
    "fig.tight_layout()\n",
    "# show the graphs\n",
    "fig.show()"
   ]
  },
  {
   "cell_type": "code",
   "execution_count": 27,
   "id": "69cd8bf4-1548-4ea9-9828-5effe910f11a",
   "metadata": {},
   "outputs": [],
   "source": [
    "def detect_outliers_iqr(data):\n",
    "    \n",
    "    # initialize list that contains the outliers\n",
    "    outliers = []\n",
    "    \n",
    "    # sort data values\n",
    "    data = sorted(data)\n",
    "    \n",
    "    # compute q1 and q3\n",
    "    q1 = np.percentile(data, 25)\n",
    "    q3 = np.percentile(data, 75)\n",
    "    \n",
    "    # compute the IQR\n",
    "    IQR = q3-q1\n",
    "    \n",
    "    # set the lower bound and upper bound\n",
    "    ## note that we can play with value 1.5 to widen or narrow the range\n",
    "    lower_bound = q1 - (1.5*IQR)\n",
    "    upper_bound = q3 + (1.5*IQR)\n",
    "    \n",
    "   # print computed lower and upper bound of a particular column\n",
    "    print(\"lower:\",lower_bound, \"upper:\", upper_bound)\n",
    "    \n",
    "    # for each data point, decide whether it falls below lower bound or above upper ground\n",
    "    for i in data:\n",
    "        if (i < lower_bound or i > upper_bound):\n",
    "            \n",
    "            outliers.append(i)\n",
    "            \n",
    "    return outliers"
   ]
  },
  {
   "cell_type": "code",
   "execution_count": 28,
   "id": "32ea67c1-d3bf-4602-acd3-5507bb397881",
   "metadata": {},
   "outputs": [
    {
     "name": "stdout",
     "output_type": "stream",
     "text": [
      "lower: -544.5 upper: 907.5\n",
      "number of outliers in column 'reviews' is 20112\n",
      "percentage of outliers in column 'reviews' is 15.59 %\n",
      "\n",
      "lower: -7.51 upper: 28.490000000000002\n",
      "number of outliers in column 'price' is 14516\n",
      "percentage of outliers in column 'price' is 11.25 %\n",
      "\n",
      "lower: 3.9500000000000006 upper: 5.15\n",
      "number of outliers in column 'stars' is 7018\n",
      "percentage of outliers in column 'stars' is 5.44 %\n",
      "\n"
     ]
    }
   ],
   "source": [
    "for col in outlier_columns:\n",
    "\n",
    "    outlier = detect_outliers_iqr(kindle_data[col])\n",
    "\n",
    "    print(\"number of outliers in column\", f\"'{str(col)}'\", \"is\", len(outlier))\n",
    "    print(\"percentage of outliers in column\", \n",
    "          f\"'{str(col)}'\", \"is\", np.round(len(outlier)*100/len(kindle_data),2),\"%\")\n",
    "    print()\n"
   ]
  },
  {
   "cell_type": "code",
   "execution_count": 29,
   "id": "c3743504-d139-47d9-9078-2757bbab1bae",
   "metadata": {},
   "outputs": [
    {
     "name": "stdout",
     "output_type": "stream",
     "text": [
      "Presentase data dengan jumlah reviews = 0 : 48.23%\n"
     ]
    }
   ],
   "source": [
    "reviews_is_0 = len(kindle_data[kindle_data[\"reviews\"] == 0])\n",
    "\n",
    "print(f\"Presentase data dengan jumlah reviews = 0 : {np.round(reviews_is_0*100/len(kindle_data),2)}%\")"
   ]
  },
  {
   "cell_type": "code",
   "execution_count": 31,
   "id": "d47910ee-c32a-4ed3-9f53-96fde33b3dc0",
   "metadata": {},
   "outputs": [
    {
     "data": {
      "text/plain": [
       "<Axes: xlabel='reviews', ylabel='Count'>"
      ]
     },
     "execution_count": 31,
     "metadata": {},
     "output_type": "execute_result"
    },
    {
     "data": {
      "image/png": "[encoded data removed]",
      "text/plain": [
       "<Figure size 640x480 with 1 Axes>"
      ]
     },
     "metadata": {},
     "output_type": "display_data"
    }
   ],
   "source": [
    "# Plot histogram untuk kolom reviews\n",
    "sns.histplot(kindle_data[\"reviews\"].loc[kindle_data['reviews'] != 0], bins=100)"
   ]
  },
  {
   "cell_type": "code",
   "execution_count": 32,
   "id": "f08187be-ee55-484e-a33b-76db9cb02de6",
   "metadata": {},
   "outputs": [
    {
     "data": {
      "image/png": "[encoded data removed]",
      "text/plain": [
       "<Figure size 600x400 with 1 Axes>"
      ]
     },
     "metadata": {},
     "output_type": "display_data"
    }
   ],
   "source": [
    "# Kolom baru: log transform reviews\n",
    "kindle_data['log_reviews'] = np.log1p(kindle_data['reviews'])\n",
    "\n",
    "plt.figure(figsize=(6,4))\n",
    "sns.histplot(kindle_data['log_reviews'].loc[kindle_data['log_reviews'] != 0], kde=True, bins=50)\n",
    "plt.title(\"Distribusi Log Reviews Buku\")\n",
    "plt.xlabel(\"log(reviews + 1)\")\n",
    "plt.ylabel(\"Jumlah Buku\")\n",
    "plt.show()"
   ]
  },
  {
   "cell_type": "code",
   "execution_count": 33,
   "id": "22384118-957d-4d8c-8af1-b8d29929c42e",
   "metadata": {},
   "outputs": [
    {
     "data": {
      "text/plain": [
       "<Axes: xlabel='price', ylabel='Count'>"
      ]
     },
     "execution_count": 33,
     "metadata": {},
     "output_type": "execute_result"
    },
    {
     "data": {
      "image/png": "[encoded data removed]",
      "text/plain": [
       "<Figure size 640x480 with 1 Axes>"
      ]
     },
     "metadata": {},
     "output_type": "display_data"
    }
   ],
   "source": [
    "# Plot histogram untuk kolom price\n",
    "sns.histplot(kindle_data[\"price\"], bins=100)"
   ]
  },
  {
   "cell_type": "code",
   "execution_count": 34,
   "id": "352c95ad-5f74-497a-863e-f71bd5e18aa5",
   "metadata": {},
   "outputs": [
    {
     "data": {
      "image/png": "[encoded data removed]",
      "text/plain": [
       "<Figure size 600x400 with 1 Axes>"
      ]
     },
     "metadata": {},
     "output_type": "display_data"
    }
   ],
   "source": [
    "# Tambahkan kolom baru hasil transformasi log\n",
    "kindle_data['log_price'] = np.log1p(kindle_data['price'])  # log(price + 1)\n",
    "\n",
    "plt.figure(figsize=(6,4))\n",
    "sns.histplot(kindle_data['log_price'], kde=True, bins=50)\n",
    "plt.title(\"Distribusi Log Harga Buku\")\n",
    "plt.xlabel(\"log(price + 1)\")\n",
    "plt.ylabel(\"Jumlah Buku\")\n",
    "plt.show()"
   ]
  },
  {
   "cell_type": "code",
   "execution_count": 35,
   "id": "41d6aef3-4776-48b8-a9ed-a6ba83440fbd",
   "metadata": {},
   "outputs": [
    {
     "data": {
      "text/plain": [
       "<Axes: xlabel='stars', ylabel='Count'>"
      ]
     },
     "execution_count": 35,
     "metadata": {},
     "output_type": "execute_result"
    },
    {
     "data": {
      "image/png": "[encoded data removed]",
      "text/plain": [
       "<Figure size 640x480 with 1 Axes>"
      ]
     },
     "metadata": {},
     "output_type": "display_data"
    }
   ],
   "source": [
    "# Plot histogram untuk kolom stars\n",
    "sns.histplot(kindle_data[\"stars\"], bins=100)"
   ]
  },
  {
   "cell_type": "code",
   "execution_count": 36,
   "id": "cb73663c-e49c-4589-8da4-c65fec4a89e0",
   "metadata": {},
   "outputs": [
    {
     "data": {
      "text/plain": [
       "title                 object\n",
       "author                object\n",
       "soldBy                object\n",
       "reviews                int64\n",
       "price                float64\n",
       "category_name         object\n",
       "stars                float64\n",
       "asin                  object\n",
       "isKindleUnlimited       bool\n",
       "category_id            int64\n",
       "isBestSeller            bool\n",
       "isEditorsPick           bool\n",
       "isGoodReadsChoice       bool\n",
       "log_reviews          float64\n",
       "log_price            float64\n",
       "dtype: object"
      ]
     },
     "execution_count": 36,
     "metadata": {},
     "output_type": "execute_result"
    }
   ],
   "source": [
    "# mengecek tipe data tiap kolom\n",
    "kindle_data.dtypes"
   ]
  },
  {
   "cell_type": "code",
   "execution_count": 37,
   "id": "30cc350a-0be0-4fe2-ad7c-08016c84ae42",
   "metadata": {},
   "outputs": [
    {
     "data": {
      "text/plain": [
       "soldBy\n",
       "Amazon Digital Services LLC GU                 1\n",
       "Amazon Digital Services LLC HN                 1\n",
       "Amazon Digital Services LLC MK                 1\n",
       "Amazon.com                                    12\n",
       "Amazon.com Services LLC                    90150\n",
       "Book Republic                                  2\n",
       "Cengage Learning                             736\n",
       "DC Comics                                      2\n",
       "De Marque                                     81\n",
       "Disney Book Group                            133\n",
       "EDIGITA                                       24\n",
       "Editorial Planeta, S.A.U.                    605\n",
       "Flammarion Lt.                                28\n",
       "Gallimard Lt.                                 37\n",
       "Games Workshop                                79\n",
       "GeMS SpA                                      13\n",
       "Giunti Editore S.p.A.                          3\n",
       "Hachette Book Group                         4673\n",
       "Harlequin Digital Sales Corp.                440\n",
       "Harper Collins                               114\n",
       "HarperCollins Publishers                    4308\n",
       "HarperCollins Publishing                    1129\n",
       "INTERFORUM                                    48\n",
       "Immat&eacute;riel fr                          12\n",
       "JOHN WILEY AND SONS INC                     2386\n",
       "Macmillan                                   3147\n",
       "Macmillan Higher Education                   209\n",
       "Marvel Entertainment US                       90\n",
       "Newton Compton                                 2\n",
       "PRH UK                                       358\n",
       "Pearson Education,Inc.                      1305\n",
       "Penguin Group (USA) LLC                     4384\n",
       "Penguin Random House Australia Pty Ltd         9\n",
       "Penguin Random House Grupo Editorial         943\n",
       "Penguin Random House Publisher Services     2380\n",
       "Pottermore                                    39\n",
       "RCS MediaGroup S.p.A.                          1\n",
       "RH AU                                         11\n",
       "Random House India                            13\n",
       "Random House LLC                            5857\n",
       "Random House NZ                               14\n",
       "Random House ZA                               45\n",
       "Scholastic Trade Publisher                   102\n",
       "Simon & Schuster Digital Sales Inc.         1725\n",
       "Simon and Schuster Digital Sales Inc        3042\n",
       "Versilio                                       2\n",
       "Volumen                                        3\n",
       "W. W. Norton & Company                       120\n",
       "Yen Press LLC                                162\n",
       "Name: count, dtype: int64"
      ]
     },
     "execution_count": 37,
     "metadata": {},
     "output_type": "execute_result"
    }
   ],
   "source": [
    "# cek inconsistent format kolom soldBy\n",
    "kindle_data[\"soldBy\"].value_counts().sort_index()"
   ]
  },
  {
   "cell_type": "code",
   "execution_count": 38,
   "id": "099c2fab-55fb-42ce-a909-ea06545ca9ae",
   "metadata": {},
   "outputs": [
    {
     "data": {
      "text/plain": [
       "soldBy\n",
       "Amazon Digital Services LLC GU                 1\n",
       "Amazon Digital Services LLC HN                 1\n",
       "Amazon Digital Services LLC MK                 1\n",
       "Amazon.com                                    12\n",
       "Amazon.com Services LLC                    90150\n",
       "Book Republic                                  2\n",
       "Cengage Learning                             736\n",
       "DC Comics                                      2\n",
       "De Marque                                     81\n",
       "Disney Book Group                            133\n",
       "EDIGITA                                       24\n",
       "Editorial Planeta, S.A.U.                    605\n",
       "Flammarion Lt.                                28\n",
       "Gallimard Lt.                                 37\n",
       "Games Workshop                                79\n",
       "GeMS SpA                                      13\n",
       "Giunti Editore S.p.A.                          3\n",
       "Hachette Book Group                         4673\n",
       "Harlequin Digital Sales Corp.                440\n",
       "Harper Collins                              5551\n",
       "INTERFORUM                                    48\n",
       "Immat&eacute;riel fr                          12\n",
       "JOHN WILEY AND SONS INC                     2386\n",
       "Macmillan                                   3147\n",
       "Macmillan Higher Education                   209\n",
       "Marvel Entertainment US                       90\n",
       "Newton Compton                                 2\n",
       "PRH UK                                       358\n",
       "Pearson Education,Inc.                      1305\n",
       "Penguin Group (USA) LLC                     4384\n",
       "Penguin Random House Australia Pty Ltd         9\n",
       "Penguin Random House Grupo Editorial         943\n",
       "Penguin Random House Publisher Services     2380\n",
       "Pottermore                                    39\n",
       "RCS MediaGroup S.p.A.                          1\n",
       "RH AU                                         11\n",
       "Random House India                            13\n",
       "Random House LLC                            5857\n",
       "Random House NZ                               14\n",
       "Random House ZA                               45\n",
       "Scholastic Trade Publisher                   102\n",
       "Simon & Schuster Digital Sales Inc.         4767\n",
       "Versilio                                       2\n",
       "Volumen                                        3\n",
       "W. W. Norton & Company                       120\n",
       "Yen Press LLC                                162\n",
       "Name: count, dtype: int64"
      ]
     },
     "execution_count": 38,
     "metadata": {},
     "output_type": "execute_result"
    }
   ],
   "source": [
    "# mapping inkonsisten kolom soldBy ke format yang benar\n",
    "publisher_format = { \"HarperCollins Publishers\" : \"Harper Collins\", \n",
    "                    \"HarperCollins Publishing\" : \"Harper Collins\", \n",
    "                    \"Simon and Schuster Digital Sales Inc\" : \"Simon & Schuster Digital Sales Inc.\"}\n",
    "\n",
    "# mengubah hasil mapping sehingga nilai menjadi seragam\n",
    "kindle_data[\"soldBy\"] = kindle_data[\"soldBy\"].replace(publisher_format)\n",
    "\n",
    "# cek ulang format soldBy\n",
    "kindle_data[\"soldBy\"].value_counts().sort_index()"
   ]
  },
  {
   "cell_type": "code",
   "execution_count": 39,
   "id": "d837e0e9-d253-4429-8e75-1473ecd88cb4",
   "metadata": {},
   "outputs": [
    {
     "data": {
      "text/plain": [
       "category_name\n",
       "Arts & Photo graphy             4807\n",
       "Biographies & Memoirs           5302\n",
       "Business & Money                2517\n",
       "Children's eBooks               4776\n",
       "Comics                           470\n",
       "Computers & Technology          5432\n",
       "Cookbooks, Food & Wine          5214\n",
       "Crafts, Hobbies & Home          5373\n",
       "Education & Teaching            4932\n",
       "Engineering & Transportation    6027\n",
       "Foreign Language                5484\n",
       "Health, Fitness & Dieting       1542\n",
       "History                         1986\n",
       "Humor & Entertainment           3872\n",
       "LGBTQ+ eBooks                   5435\n",
       "Law                             4888\n",
       "Literature & Fiction            4104\n",
       "Medical                         2545\n",
       "Mystery, Thriller & Suspense    6183\n",
       "Nonfiction                       876\n",
       "Parenting & Relationships       5673\n",
       "Politics & Social Sciences      4050\n",
       "Reference                       3292\n",
       "Religion & Spirituality         4877\n",
       "Romance                         2175\n",
       "Science & Math                  5869\n",
       "Science Fiction & Fantasy       3939\n",
       "Self-Help                       3340\n",
       "Sports & Outdoors               3126\n",
       "Teen & Young Adult              5623\n",
       "Travel                          5252\n",
       "Name: count, dtype: int64"
      ]
     },
     "execution_count": 39,
     "metadata": {},
     "output_type": "execute_result"
    }
   ],
   "source": [
    "# cek inconsistent format kolom category_name\n",
    "kindle_data[\"category_name\"].value_counts().sort_index()"
   ]
  },
  {
   "cell_type": "code",
   "execution_count": 40,
   "id": "927cb93a-8415-48be-ad7e-b5cec180188c",
   "metadata": {},
   "outputs": [
    {
     "data": {
      "text/plain": [
       "author\n",
       "\"Termite\" Terry Singleton                                 2\n",
       "'El Pela' Gonzalo Romero                                  4\n",
       "(Chef) Dominique Ansel                                    2\n",
       "(ISC)² Corporate                                          1\n",
       "(John D.) J. D. Turner                                    1\n",
       "(Journalist) Leigh Gallagher                              1\n",
       "(K.O.B.) Kayy0hBee                                        1\n",
       "(Musician) KRS-One                                        1\n",
       "(Musician) Sting                                          1\n",
       "(Psychotherapist) Richard O'Connor                        1\n",
       "(日)高野和明                                                   1\n",
       ", Annie's                                                 2\n",
       ", Buronson,Hara, Tetsuo                                   1\n",
       ", ONE                                                     2\n",
       ", Patabot                                                 1\n",
       ", Reemus                                                  1\n",
       ", The Arbinger Institute                                  3\n",
       "- Anonymous                                               1\n",
       "-Scholastic-                                              1\n",
       ". Aaos                                                    1\n",
       ".ج. ك رولينج                                              1\n",
       "123VIETNAMESE LANGUAGE CENTER                             2\n",
       "13 Pitch Black Cats                                       3\n",
       "1849-1914 Riis, Jacob A. (Jacob August)                   1\n",
       "1881-1975 Wodehouse, P. G. (Pelham Grenville)             1\n",
       "1:Dominique Lapierre | Larry Collins | 2:Adolfo Martín    1\n",
       "1st Echo Publishing                                       1\n",
       "200 Funfacts                                              1\n",
       "21 Exercises                                              1\n",
       "2600 Magazine                                             2\n",
       "30 Bird Media                                             1\n",
       "3dtotal Publishing                                        4\n",
       "50 Cent                                                   3\n",
       "50minutes,                                                1\n",
       "99U                                                       2\n",
       "@keto_con_laura                                           1\n",
       "A B Jamieson                                              1\n",
       "A Gentry, John                                            1\n",
       "A J Wills                                                 2\n",
       "A Jade                                                    1\n",
       "A LeRoy                                                   1\n",
       "A Priest                                                  1\n",
       "A Tanzil, Sakinah                                         1\n",
       "A Trevena                                                 5\n",
       "A W NIENOW                                                1\n",
       "A Wesley Burks                                            1\n",
       "A Zun Mo                                                  1\n",
       "A+ Book Report                                            1\n",
       "A. A. Bühlmann                                            1\n",
       "A. A. Chadwick                                            1\n",
       "Name: count, dtype: int64"
      ]
     },
     "execution_count": 40,
     "metadata": {},
     "output_type": "execute_result"
    }
   ],
   "source": [
    "# cek inconsistent format kolom author 50 data teratas\n",
    "kindle_data[\"author\"].value_counts().sort_index().head(50)"
   ]
  },
  {
   "cell_type": "code",
   "execution_count": 41,
   "id": "a2318a4f-966e-43b3-8364-e8db1ac3d644",
   "metadata": {},
   "outputs": [
    {
     "data": {
      "text/plain": [
       "author\n",
       "\"Termite\" Terry Singleton                                 2\n",
       "'El Pela' Gonzalo Romero                                  4\n",
       "(Chef) Dominique Ansel                                    2\n",
       "(ISC)² Corporate                                          1\n",
       "(John D.) J. D. Turner                                    1\n",
       "(Journalist) Leigh Gallagher                              1\n",
       "(K.O.B.) Kayy0hBee                                        1\n",
       "(Musician) KRS-One                                        1\n",
       "(Musician) Sting                                          1\n",
       "(Psychotherapist) Richard O'Connor                        1\n",
       "(日)高野和明                                                   1\n",
       "123VIETNAMESE LANGUAGE CENTER                             2\n",
       "13 Pitch Black Cats                                       3\n",
       "1849-1914 Riis, Jacob A. (Jacob August)                   1\n",
       "1881-1975 Wodehouse, P. G. (Pelham Grenville)             1\n",
       "1:Dominique Lapierre | Larry Collins | 2:Adolfo Martín    1\n",
       "1st Echo Publishing                                       1\n",
       "200 Funfacts                                              1\n",
       "21 Exercises                                              1\n",
       "2600 Magazine                                             2\n",
       "30 Bird Media                                             1\n",
       "3dtotal Publishing                                        4\n",
       "50 Cent                                                   3\n",
       "50minutes                                                 1\n",
       "99U                                                       2\n",
       "@keto_con_laura                                           1\n",
       "A B Jamieson                                              1\n",
       "A Gentry, John                                            1\n",
       "A J Wills                                                 2\n",
       "A Jade                                                    1\n",
       "A LeRoy                                                   1\n",
       "A Priest                                                  1\n",
       "A Tanzil, Sakinah                                         1\n",
       "A Trevena                                                 5\n",
       "A W NIENOW                                                1\n",
       "A Wesley Burks                                            1\n",
       "A Zun Mo                                                  1\n",
       "A+ Book Report                                            1\n",
       "A. A. Bühlmann                                            1\n",
       "A. A. Chadwick                                            1\n",
       "A. A. Gill                                                1\n",
       "A. A. Long                                                1\n",
       "A. A. Milne                                               4\n",
       "A. ANAND KUMAR                                            1\n",
       "A. Abby Knoblauch                                         1\n",
       "A. American                                               3\n",
       "A. B. Greenfield                                          1\n",
       "A. B. Roveen                                              1\n",
       "A. Benjamin Spencer                                       2\n",
       "A. Blossom                                                1\n",
       "Name: count, dtype: int64"
      ]
     },
     "execution_count": 41,
     "metadata": {},
     "output_type": "execute_result"
    }
   ],
   "source": [
    "# bersihkan hanya karakter koma, titik, dan strip di awal/akhir\n",
    "kindle_data['author'] = kindle_data['author'].str.replace(r'^[,.\\-]+|[,.\\-]+$', '', regex=True)\n",
    "\n",
    "# memastikan tiap data tidak mengandung spasi yang tak terlihat\n",
    "kindle_data['author'] = kindle_data['author'].str.strip()\n",
    "\n",
    "# cek inconsistent format kolom author\n",
    "kindle_data[\"author\"].value_counts().sort_index().head(50)"
   ]
  },
  {
   "cell_type": "code",
   "execution_count": 42,
   "id": "8864c1cc-d35f-417d-91c7-ee07f1b5ccb2",
   "metadata": {},
   "outputs": [
    {
     "data": {
      "text/html": [
       "<div>\n",
       "<style scoped>\n",
       "    .dataframe tbody tr th:only-of-type {\n",
       "        vertical-align: middle;\n",
       "    }\n",
       "\n",
       "    .dataframe tbody tr th {\n",
       "        vertical-align: top;\n",
       "    }\n",
       "\n",
       "    .dataframe thead th {\n",
       "        text-align: right;\n",
       "    }\n",
       "</style>\n",
       "<table border=\"1\" class=\"dataframe\">\n",
       "  <thead>\n",
       "    <tr style=\"text-align: right;\">\n",
       "      <th></th>\n",
       "      <th>title</th>\n",
       "      <th>author</th>\n",
       "      <th>soldBy</th>\n",
       "      <th>reviews</th>\n",
       "      <th>price</th>\n",
       "      <th>category_name</th>\n",
       "      <th>stars</th>\n",
       "      <th>asin</th>\n",
       "      <th>isKindleUnlimited</th>\n",
       "      <th>category_id</th>\n",
       "      <th>isBestSeller</th>\n",
       "      <th>isEditorsPick</th>\n",
       "      <th>isGoodReadsChoice</th>\n",
       "      <th>log_reviews</th>\n",
       "      <th>log_price</th>\n",
       "    </tr>\n",
       "  </thead>\n",
       "  <tbody>\n",
       "    <tr>\n",
       "      <th>10720</th>\n",
       "      <td>Aviation Weather Handbook (2023)</td>\n",
       "      <td>unknown author</td>\n",
       "      <td>Amazon.com Services LLC</td>\n",
       "      <td>0</td>\n",
       "      <td>33.92</td>\n",
       "      <td>Engineering &amp; Transportation</td>\n",
       "      <td>5.0</td>\n",
       "      <td>B0BVGGM3P7</td>\n",
       "      <td>False</td>\n",
       "      <td>11</td>\n",
       "      <td>False</td>\n",
       "      <td>False</td>\n",
       "      <td>False</td>\n",
       "      <td>0.000000</td>\n",
       "      <td>3.553060</td>\n",
       "    </tr>\n",
       "    <tr>\n",
       "      <th>85079</th>\n",
       "      <td>Scales and Finger Exercises: Schirmer Library ...</td>\n",
       "      <td>unknown author</td>\n",
       "      <td>Amazon.com Services LLC</td>\n",
       "      <td>533</td>\n",
       "      <td>9.49</td>\n",
       "      <td>Arts &amp; Photo graphy</td>\n",
       "      <td>4.7</td>\n",
       "      <td>B0BM3LBK6C</td>\n",
       "      <td>False</td>\n",
       "      <td>1</td>\n",
       "      <td>False</td>\n",
       "      <td>False</td>\n",
       "      <td>False</td>\n",
       "      <td>6.280396</td>\n",
       "      <td>2.350422</td>\n",
       "    </tr>\n",
       "  </tbody>\n",
       "</table>\n",
       "</div>"
      ],
      "text/plain": [
       "                                                   title          author  \\\n",
       "10720                   Aviation Weather Handbook (2023)  unknown author   \n",
       "85079  Scales and Finger Exercises: Schirmer Library ...  unknown author   \n",
       "\n",
       "                        soldBy  reviews  price                 category_name  \\\n",
       "10720  Amazon.com Services LLC        0  33.92  Engineering & Transportation   \n",
       "85079  Amazon.com Services LLC      533   9.49           Arts & Photo graphy   \n",
       "\n",
       "       stars        asin  isKindleUnlimited  category_id  isBestSeller  \\\n",
       "10720    5.0  B0BVGGM3P7              False           11         False   \n",
       "85079    4.7  B0BM3LBK6C              False            1         False   \n",
       "\n",
       "       isEditorsPick  isGoodReadsChoice  log_reviews  log_price  \n",
       "10720          False              False     0.000000   3.553060  \n",
       "85079          False              False     6.280396   2.350422  "
      ]
     },
     "execution_count": 42,
     "metadata": {},
     "output_type": "execute_result"
    }
   ],
   "source": [
    "# Cari baris yang kolom 'author' mengandung 'unknown'\n",
    "kindle_data[kindle_data['author'].str.contains(\"unknown author\", case=False, na=False)]\n"
   ]
  },
  {
   "cell_type": "code",
   "execution_count": 43,
   "id": "04982b48-aad7-4cc0-9a5e-99670fc3c326",
   "metadata": {},
   "outputs": [
    {
     "data": {
      "text/plain": [
       "author\n",
       "Alida V. Merlo                 1\n",
       "Aliette de Bodard              1\n",
       "Alijandra Mogilner             1\n",
       "Alin Armstrong                 1\n",
       "Alina Adams                    2\n",
       "Alina Jacobs                   2\n",
       "Alina Kaczorowska-Ireland      1\n",
       "Alina May                      1\n",
       "Alina Nicoara                  1\n",
       "Alina Not                      6\n",
       "Alina Vincent                  3\n",
       "Alina Wheeler                  1\n",
       "Aline Ash                      1\n",
       "Aline Countess of Romanones    2\n",
       "Aline Kominsky Crumb           2\n",
       "Aline Pádua                    1\n",
       "Alireza Bahadori               1\n",
       "Alireza Haghighat              1\n",
       "Alisa Childers                 2\n",
       "Alisa DiLorenzo                2\n",
       "Alisa Fleming                  1\n",
       "Alisa Gaunder                  1\n",
       "Alisa Hatchenson               1\n",
       "Alisa Keeton                   2\n",
       "Alisa Lynn Valdés              1\n",
       "Alisa Ortiz                    1\n",
       "Alisa Roth                     1\n",
       "Alisa Vitti                    3\n",
       "Alisa Zipursky                 1\n",
       "Alisha Cuarenta                1\n",
       "Alisha Fernandez Miranda       1\n",
       "Alisha Klapheke                6\n",
       "Alisha N. Mack                 1\n",
       "Alisha Rai                     1\n",
       "Alisha Taibo Coombe            1\n",
       "Alisha Williams                4\n",
       "Alison A. Armstrong            3\n",
       "Alison Acheson                 1\n",
       "Alison Aimes                   2\n",
       "Alison Arngrim                 1\n",
       "Alison B. Hart                 1\n",
       "Alison Banks                   1\n",
       "Alison Bechdel                 2\n",
       "Alison Box                     1\n",
       "Alison Cochrun                 3\n",
       "Alison Cook PhD                2\n",
       "Alison Crawford                1\n",
       "Alison Davies                  1\n",
       "Alison Dupernex                2\n",
       "Alison Fortier                 2\n",
       "Name: count, dtype: int64"
      ]
     },
     "execution_count": 43,
     "metadata": {},
     "output_type": "execute_result"
    }
   ],
   "source": [
    "kindle_data[\"author\"].value_counts().sort_index()[2100:2150]"
   ]
  },
  {
   "cell_type": "code",
   "execution_count": 44,
   "id": "ef6b36bf-8a87-4501-8f89-70c2a3ff571c",
   "metadata": {},
   "outputs": [],
   "source": [
    "# mapping inkonsisten kolom soldBy ke format yang benar\n",
    "author_format = {\"A.E Colonna\" : \"A.E. Colonna\", \n",
    "                \"(Psychotherapist) Richard O'Connor\" : \"Richard O'Connor\", \n",
    "                \"AA Grapevine\" : \"AA Grapevine Inc\",\n",
    "                \"AA. VV\" : \"AA.VV\",\n",
    "                \"AK LANDOW\" : \"AK Landow\",\n",
    "                \"ARRL\" : \"ARRL Inc\",\n",
    "                \"Aaron Dietzen Aka 'the Sketchup Guy'\" : \"Aaron Dietzen aka 'The SketchUp Guy'\",\n",
    "                \"Abigail Levrini\" : \"Abigail L. Levrini\",\n",
    "                \"Adam Rutherford PhD\" : \"Adam Rutherford\",\n",
    "                \"Admiral James Stavridis USN\" : \"Admiral James Stavridis\",\n",
    "                \"Alain De Botton\" : \"Alain de Botton\",\n",
    "                \"Alda Sigmundsdottir\" : \"Alda Sigmundsdóttir\",\n",
    "                \"Aleksandr Solzhenitsyn\" : \"Aleksandr I. Solzhenitsyn\",\n",
    "                \"Aleksandr Solzhenitsyn Solzhenitsyn\" : \"Aleksandr I. Solzhenitsyn\",\n",
    "                \"Alexander Macdonald\" : \"Alexander MacDonald\",\n",
    "                \"Alexandre Dumas père\" : \"Alexandre Dumas\",\n",
    "                \"unknown\" : \"Unknown\",\n",
    "                \"unknown author\" : \"Unknown\",}\n",
    "\n",
    "# mengubah hasil mapping sehingga nilai menjadi seragam\n",
    "kindle_data[\"author\"] = kindle_data[\"author\"].replace(author_format)"
   ]
  },
  {
   "cell_type": "code",
   "execution_count": 45,
   "id": "63ce15c5-a9d1-4eac-b3ca-9ac0feafa224",
   "metadata": {},
   "outputs": [
    {
     "data": {
      "text/html": [
       "<div>\n",
       "<style scoped>\n",
       "    .dataframe tbody tr th:only-of-type {\n",
       "        vertical-align: middle;\n",
       "    }\n",
       "\n",
       "    .dataframe tbody tr th {\n",
       "        vertical-align: top;\n",
       "    }\n",
       "\n",
       "    .dataframe thead th {\n",
       "        text-align: right;\n",
       "    }\n",
       "</style>\n",
       "<table border=\"1\" class=\"dataframe\">\n",
       "  <thead>\n",
       "    <tr style=\"text-align: right;\">\n",
       "      <th></th>\n",
       "      <th>reviews</th>\n",
       "      <th>price</th>\n",
       "      <th>stars</th>\n",
       "      <th>category_id</th>\n",
       "      <th>log_reviews</th>\n",
       "      <th>log_price</th>\n",
       "    </tr>\n",
       "  </thead>\n",
       "  <tbody>\n",
       "    <tr>\n",
       "      <th>count</th>\n",
       "      <td>128981.000000</td>\n",
       "      <td>128981.000000</td>\n",
       "      <td>128981.000000</td>\n",
       "      <td>128981.000000</td>\n",
       "      <td>128981.000000</td>\n",
       "      <td>128981.000000</td>\n",
       "    </tr>\n",
       "    <tr>\n",
       "      <th>mean</th>\n",
       "      <td>847.199727</td>\n",
       "      <td>15.593097</td>\n",
       "      <td>4.405184</td>\n",
       "      <td>16.215877</td>\n",
       "      <td>2.948619</td>\n",
       "      <td>2.446420</td>\n",
       "    </tr>\n",
       "    <tr>\n",
       "      <th>std</th>\n",
       "      <td>4863.522486</td>\n",
       "      <td>22.417814</td>\n",
       "      <td>0.744257</td>\n",
       "      <td>8.419084</td>\n",
       "      <td>3.177898</td>\n",
       "      <td>0.759903</td>\n",
       "    </tr>\n",
       "    <tr>\n",
       "      <th>min</th>\n",
       "      <td>0.000000</td>\n",
       "      <td>0.500000</td>\n",
       "      <td>0.000000</td>\n",
       "      <td>1.000000</td>\n",
       "      <td>0.000000</td>\n",
       "      <td>0.405465</td>\n",
       "    </tr>\n",
       "    <tr>\n",
       "      <th>25%</th>\n",
       "      <td>0.000000</td>\n",
       "      <td>5.990000</td>\n",
       "      <td>4.400000</td>\n",
       "      <td>9.000000</td>\n",
       "      <td>0.000000</td>\n",
       "      <td>1.944481</td>\n",
       "    </tr>\n",
       "    <tr>\n",
       "      <th>50%</th>\n",
       "      <td>5.000000</td>\n",
       "      <td>9.990000</td>\n",
       "      <td>4.500000</td>\n",
       "      <td>16.000000</td>\n",
       "      <td>1.791759</td>\n",
       "      <td>2.396986</td>\n",
       "    </tr>\n",
       "    <tr>\n",
       "      <th>75%</th>\n",
       "      <td>363.000000</td>\n",
       "      <td>14.990000</td>\n",
       "      <td>4.700000</td>\n",
       "      <td>23.000000</td>\n",
       "      <td>5.897154</td>\n",
       "      <td>2.771964</td>\n",
       "    </tr>\n",
       "    <tr>\n",
       "      <th>max</th>\n",
       "      <td>618227.000000</td>\n",
       "      <td>682.000000</td>\n",
       "      <td>5.000000</td>\n",
       "      <td>31.000000</td>\n",
       "      <td>13.334613</td>\n",
       "      <td>6.526495</td>\n",
       "    </tr>\n",
       "  </tbody>\n",
       "</table>\n",
       "</div>"
      ],
      "text/plain": [
       "             reviews          price          stars    category_id  \\\n",
       "count  128981.000000  128981.000000  128981.000000  128981.000000   \n",
       "mean      847.199727      15.593097       4.405184      16.215877   \n",
       "std      4863.522486      22.417814       0.744257       8.419084   \n",
       "min         0.000000       0.500000       0.000000       1.000000   \n",
       "25%         0.000000       5.990000       4.400000       9.000000   \n",
       "50%         5.000000       9.990000       4.500000      16.000000   \n",
       "75%       363.000000      14.990000       4.700000      23.000000   \n",
       "max    618227.000000     682.000000       5.000000      31.000000   \n",
       "\n",
       "         log_reviews      log_price  \n",
       "count  128981.000000  128981.000000  \n",
       "mean        2.948619       2.446420  \n",
       "std         3.177898       0.759903  \n",
       "min         0.000000       0.405465  \n",
       "25%         0.000000       1.944481  \n",
       "50%         1.791759       2.396986  \n",
       "75%         5.897154       2.771964  \n",
       "max        13.334613       6.526495  "
      ]
     },
     "execution_count": 45,
     "metadata": {},
     "output_type": "execute_result"
    }
   ],
   "source": [
    "# Cek statistik deskriptif\n",
    "kindle_data.describe()"
   ]
  },
  {
   "cell_type": "code",
   "execution_count": 46,
   "id": "8aef31e0-c6c7-47e2-ae40-5817dbf7beee",
   "metadata": {},
   "outputs": [],
   "source": [
    "# Ubah urutan kolom\n",
    "new_order = ['asin', 'title', 'author', 'soldBy', 'stars','reviews', 'price', 'isKindleUnlimited', \n",
    "             'category_id', 'isBestSeller','isEditorsPick', 'isGoodReadsChoice', 'category_name', \n",
    "             'log_reviews', 'log_price']\n",
    "kindle_data = kindle_data[new_order]\n",
    "\n",
    "\n",
    "# Export_data\n",
    "kindle_data.to_csv(\"Kindle_Data_Cleaned_2.csv\", index=False)"
   ]
  }
 ],
 "metadata": {
  "kernelspec": {
   "display_name": "Python 3 (ipykernel)",
   "language": "python",
   "name": "python3"
  },
  "language_info": {
   "codemirror_mode": {
    "name": "ipython",
    "version": 3
   },
   "file_extension": ".py",
   "mimetype": "text/x-python",
   "name": "python",
   "nbconvert_exporter": "python",
   "pygments_lexer": "ipython3",
   "version": "3.12.7"
  }
 },
 "nbformat": 4,
 "nbformat_minor": 5
}
