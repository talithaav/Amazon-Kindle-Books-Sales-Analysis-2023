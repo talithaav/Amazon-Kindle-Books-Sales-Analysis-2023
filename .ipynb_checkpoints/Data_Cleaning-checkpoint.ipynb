{
 "cells": [
  {
   "cell_type": "code",
   "execution_count": 1,
   "id": "fa9ccff6-933e-42d5-808a-0864fda4d003",
   "metadata": {},
   "outputs": [],
   "source": [
    "# load data\n",
    "import pandas as pd\n",
    "import numpy as np\n",
    "\n",
    "# visualization\n",
    "import matplotlib.pyplot as plt\n",
    "\n",
    "# modelling\n",
    "import statsmodels.formula.api as smf\n",
    "\n",
    "# statistics \n",
    "import scipy.stats as stats"
   ]
  },
  {
   "cell_type": "code",
   "execution_count": 2,
   "id": "dcda9c93-7a93-4ccd-a3ed-1df05e87f941",
   "metadata": {},
   "outputs": [
    {
     "data": {
      "text/html": [
       "<div>\n",
       "<style scoped>\n",
       "    .dataframe tbody tr th:only-of-type {\n",
       "        vertical-align: middle;\n",
       "    }\n",
       "\n",
       "    .dataframe tbody tr th {\n",
       "        vertical-align: top;\n",
       "    }\n",
       "\n",
       "    .dataframe thead th {\n",
       "        text-align: right;\n",
       "    }\n",
       "</style>\n",
       "<table border=\"1\" class=\"dataframe\">\n",
       "  <thead>\n",
       "    <tr style=\"text-align: right;\">\n",
       "      <th></th>\n",
       "      <th>index</th>\n",
       "      <th>Publishing Year</th>\n",
       "      <th>Book Name</th>\n",
       "      <th>Author</th>\n",
       "      <th>language_code</th>\n",
       "      <th>Author_Rating</th>\n",
       "      <th>Book_average_rating</th>\n",
       "      <th>Book_ratings_count</th>\n",
       "      <th>genre</th>\n",
       "      <th>gross sales</th>\n",
       "      <th>publisher revenue</th>\n",
       "      <th>sale price</th>\n",
       "      <th>sales rank</th>\n",
       "      <th>Publisher</th>\n",
       "      <th>units sold</th>\n",
       "    </tr>\n",
       "  </thead>\n",
       "  <tbody>\n",
       "    <tr>\n",
       "      <th>0</th>\n",
       "      <td>0</td>\n",
       "      <td>1975.0</td>\n",
       "      <td>Beowulf</td>\n",
       "      <td>Unknown, Seamus Heaney</td>\n",
       "      <td>en-US</td>\n",
       "      <td>Novice</td>\n",
       "      <td>3.42</td>\n",
       "      <td>155903</td>\n",
       "      <td>genre fiction</td>\n",
       "      <td>34160.0</td>\n",
       "      <td>20496.0</td>\n",
       "      <td>4.88</td>\n",
       "      <td>1</td>\n",
       "      <td>HarperCollins Publishers</td>\n",
       "      <td>7000</td>\n",
       "    </tr>\n",
       "    <tr>\n",
       "      <th>1</th>\n",
       "      <td>1</td>\n",
       "      <td>1987.0</td>\n",
       "      <td>Batman: Year One</td>\n",
       "      <td>Frank Miller, David Mazzucchelli, Richmond Lew...</td>\n",
       "      <td>eng</td>\n",
       "      <td>Intermediate</td>\n",
       "      <td>4.23</td>\n",
       "      <td>145267</td>\n",
       "      <td>genre fiction</td>\n",
       "      <td>12437.5</td>\n",
       "      <td>7462.5</td>\n",
       "      <td>1.99</td>\n",
       "      <td>2</td>\n",
       "      <td>HarperCollins Publishers</td>\n",
       "      <td>6250</td>\n",
       "    </tr>\n",
       "    <tr>\n",
       "      <th>2</th>\n",
       "      <td>2</td>\n",
       "      <td>2015.0</td>\n",
       "      <td>Go Set a Watchman</td>\n",
       "      <td>Harper Lee</td>\n",
       "      <td>eng</td>\n",
       "      <td>Novice</td>\n",
       "      <td>3.31</td>\n",
       "      <td>138669</td>\n",
       "      <td>genre fiction</td>\n",
       "      <td>47795.0</td>\n",
       "      <td>28677.0</td>\n",
       "      <td>8.69</td>\n",
       "      <td>3</td>\n",
       "      <td>Amazon Digital Services,  Inc.</td>\n",
       "      <td>5500</td>\n",
       "    </tr>\n",
       "  </tbody>\n",
       "</table>\n",
       "</div>"
      ],
      "text/plain": [
       "   index  Publishing Year          Book Name  \\\n",
       "0      0           1975.0            Beowulf   \n",
       "1      1           1987.0   Batman: Year One   \n",
       "2      2           2015.0  Go Set a Watchman   \n",
       "\n",
       "                                              Author language_code  \\\n",
       "0                             Unknown, Seamus Heaney         en-US   \n",
       "1  Frank Miller, David Mazzucchelli, Richmond Lew...           eng   \n",
       "2                                         Harper Lee           eng   \n",
       "\n",
       "  Author_Rating  Book_average_rating  Book_ratings_count          genre  \\\n",
       "0        Novice                 3.42              155903  genre fiction   \n",
       "1  Intermediate                 4.23              145267  genre fiction   \n",
       "2        Novice                 3.31              138669  genre fiction   \n",
       "\n",
       "   gross sales  publisher revenue  sale price  sales rank  \\\n",
       "0      34160.0            20496.0        4.88           1   \n",
       "1      12437.5             7462.5        1.99           2   \n",
       "2      47795.0            28677.0        8.69           3   \n",
       "\n",
       "                        Publisher  units sold  \n",
       "0        HarperCollins Publishers        7000  \n",
       "1        HarperCollins Publishers        6250  \n",
       "2  Amazon Digital Services,  Inc.        5500  "
      ]
     },
     "execution_count": 2,
     "metadata": {},
     "output_type": "execute_result"
    }
   ],
   "source": [
    "# read data Books\n",
    "books_data = pd.read_csv(\"Books_Data.csv\")\n",
    "\n",
    "# memastikan tiap kolom tidak mengandung spasi yang tak terlihat\n",
    "books_data.columns = books_data.columns.str.strip()\n",
    "\n",
    "# menampilkan semua data Books\n",
    "books_data.head(3)"
   ]
  },
  {
   "cell_type": "code",
   "execution_count": 3,
   "id": "72cc3213-00be-436f-9d0e-6b3beca2e67f",
   "metadata": {},
   "outputs": [
    {
     "data": {
      "text/plain": [
       "index                   0\n",
       "Publishing Year         1\n",
       "Book Name              23\n",
       "Author                  0\n",
       "language_code          53\n",
       "Author_Rating           0\n",
       "Book_average_rating     0\n",
       "Book_ratings_count      0\n",
       "genre                   0\n",
       "gross sales             0\n",
       "publisher revenue       0\n",
       "sale price              0\n",
       "sales rank              0\n",
       "Publisher               0\n",
       "units sold              0\n",
       "dtype: int64"
      ]
     },
     "execution_count": 3,
     "metadata": {},
     "output_type": "execute_result"
    }
   ],
   "source": [
    "# Identified Missing Value\n",
    "\n",
    "books_data.isna().sum()"
   ]
  },
  {
   "cell_type": "code",
   "execution_count": 4,
   "id": "5220692e-14eb-4e17-b038-2948297e2954",
   "metadata": {},
   "outputs": [
    {
     "data": {
      "text/plain": [
       "language_code          4.953271\n",
       "Book Name              2.149533\n",
       "Publishing Year        0.093458\n",
       "index                  0.000000\n",
       "Author                 0.000000\n",
       "Author_Rating          0.000000\n",
       "Book_average_rating    0.000000\n",
       "Book_ratings_count     0.000000\n",
       "genre                  0.000000\n",
       "gross sales            0.000000\n",
       "publisher revenue      0.000000\n",
       "sale price             0.000000\n",
       "sales rank             0.000000\n",
       "Publisher              0.000000\n",
       "units sold             0.000000\n",
       "dtype: float64"
      ]
     },
     "execution_count": 4,
     "metadata": {},
     "output_type": "execute_result"
    }
   ],
   "source": [
    "# Persentase missing value pada tiap kolom\n",
    "books_data.isnull().sum().sort_values(ascending=False)/len(books_data)*100"
   ]
  },
  {
   "cell_type": "code",
   "execution_count": 93,
   "id": "61108653-b8e6-4853-966a-fe2d47a461ce",
   "metadata": {},
   "outputs": [
    {
     "data": {
      "text/html": [
       "<div>\n",
       "<style scoped>\n",
       "    .dataframe tbody tr th:only-of-type {\n",
       "        vertical-align: middle;\n",
       "    }\n",
       "\n",
       "    .dataframe tbody tr th {\n",
       "        vertical-align: top;\n",
       "    }\n",
       "\n",
       "    .dataframe thead th {\n",
       "        text-align: right;\n",
       "    }\n",
       "</style>\n",
       "<table border=\"1\" class=\"dataframe\">\n",
       "  <thead>\n",
       "    <tr style=\"text-align: right;\">\n",
       "      <th></th>\n",
       "      <th>index</th>\n",
       "      <th>Publishing Year</th>\n",
       "      <th>Book Name</th>\n",
       "      <th>Author</th>\n",
       "      <th>language_code</th>\n",
       "      <th>Author_Rating</th>\n",
       "      <th>Book_average_rating</th>\n",
       "      <th>Book_ratings_count</th>\n",
       "      <th>genre</th>\n",
       "      <th>gross sales</th>\n",
       "      <th>publisher revenue</th>\n",
       "      <th>sale price</th>\n",
       "      <th>sales rank</th>\n",
       "      <th>Publisher</th>\n",
       "      <th>units sold</th>\n",
       "    </tr>\n",
       "  </thead>\n",
       "  <tbody>\n",
       "    <tr>\n",
       "      <th>888</th>\n",
       "      <td>888</td>\n",
       "      <td>2009.0</td>\n",
       "      <td>NaN</td>\n",
       "      <td>Roberto Aguirre-Sacasa, Stephen King, Mike Per...</td>\n",
       "      <td>eng</td>\n",
       "      <td>Famous</td>\n",
       "      <td>4.43</td>\n",
       "      <td>57279</td>\n",
       "      <td>genre fiction</td>\n",
       "      <td>838.88</td>\n",
       "      <td>503.328</td>\n",
       "      <td>7.49</td>\n",
       "      <td>1043</td>\n",
       "      <td>Penguin Group (USA) LLC</td>\n",
       "      <td>4440</td>\n",
       "    </tr>\n",
       "  </tbody>\n",
       "</table>\n",
       "</div>"
      ],
      "text/plain": [
       "     index  Publishing Year Book Name  \\\n",
       "888    888           2009.0       NaN   \n",
       "\n",
       "                                                Author language_code  \\\n",
       "888  Roberto Aguirre-Sacasa, Stephen King, Mike Per...           eng   \n",
       "\n",
       "    Author_Rating  Book_average_rating  Book_ratings_count          genre  \\\n",
       "888        Famous                 4.43               57279  genre fiction   \n",
       "\n",
       "     gross sales  publisher revenue  sale price  sales rank  \\\n",
       "888       838.88            503.328        7.49        1043   \n",
       "\n",
       "                   Publisher  units sold  \n",
       "888  Penguin Group (USA) LLC        4440  "
      ]
     },
     "execution_count": 93,
     "metadata": {},
     "output_type": "execute_result"
    }
   ],
   "source": [
    "books_data.loc[\n",
    "    (books_data[\"Author\"] == \"Roberto Aguirre-Sacasa, Stephen King, Mike Perkins, Laura       Martin\") & \n",
    "    (books_data[\"Publishing Year\"] == 2009)\n",
    "]\n"
   ]
  },
  {
   "cell_type": "code",
   "execution_count": 5,
   "id": "b3d6985a-0824-4116-83de-de7c4909aeac",
   "metadata": {},
   "outputs": [
    {
     "name": "stdout",
     "output_type": "stream",
     "text": [
      "                                                 Author  Publishing Year\n",
      "24                 Kenneth Branagh, William Shakespeare           1996.0\n",
      "34                                    Brandon Sanderson           2007.0\n",
      "105                                      Mark Cotta Vaz           2011.0\n",
      "186                                           Kate Egan           2012.0\n",
      "190                                         Allie Brosh           2013.0\n",
      "245                                       Phaidon Press           1997.0\n",
      "312                                          E.L. James           2012.0\n",
      "359                                        Isaac Asimov           1953.0\n",
      "440                     Marcus Pfister, J. Alison James           1995.0\n",
      "445                           Robert Kapilow, Dr. Seuss              NaN\n",
      "492                                       Robert Jordan           1994.0\n",
      "743                         Clement C. Moore, Jan Brett           1986.0\n",
      "824                                         Emily Seife           2012.0\n",
      "826                                         John Bunyan           1678.0\n",
      "831                                       Robert Jordan           2000.0\n",
      "839                                      Alison Bechdel           2006.0\n",
      "852                         Louis Sachar, Adam McCauley           1978.0\n",
      "856            L.J. Smith, Kevin Williamson, Julie Plec           2010.0\n",
      "888   Roberto Aguirre-Sacasa, Stephen King, Mike Per...           2009.0\n",
      "898                                         Brent Weeks           2008.0\n",
      "958                Laura Ingalls Wilder, Garth Williams           1937.0\n",
      "968                                        Jodi Picoult           2016.0\n",
      "1031                                     Colleen Hoover           2015.0\n"
     ]
    }
   ],
   "source": [
    "# data dengan missing value Book Name\n",
    "missing_titles = books_data[books_data['Book Name'].isna()][['Author', 'Publishing Year']].drop_duplicates()\n",
    "print(missing_titles)\n"
   ]
  },
  {
   "cell_type": "code",
   "execution_count": 6,
   "id": "68140aec-90b2-41a6-a7bc-1785ccbc1d77",
   "metadata": {},
   "outputs": [],
   "source": [
    "# Dictionary data book name berdasarkan Author dan Publishing Year\n",
    "book_name_fixes = {\n",
    "    (\"Kenneth Branagh, William Shakespeare\", 1996.0): \"Hamlet\",\n",
    "    (\"Brandon Sanderson\", 2007.0): \"Mistborn: The Well of Ascension\",\n",
    "    (\"Mark Cotta Vaz\", 2011.0): \"The Twilight Saga: Breaking Dawn Part 1\",\n",
    "    (\"Kate Egan\", 2012.0): \"Kate and Nate Are Running Late!\",\n",
    "    (\"Allie Brosh\", 2013.0): \"Hyperbole and a Half: Unfortunate Situations, Flawed Coping Mechanisms, Mayhem, and Other Things That Happened\",\n",
    "    (\"Phaidon Press\", 1997.0): \"The Art Book\",\n",
    "    (\"E.L. James\", 2012.0): \"Fifty Shades of Grey\",\n",
    "    (\"Isaac Asimov\", 1953.0): \"Second Foundation\",\n",
    "    (\"Marcus Pfister, J. Alison James\", 1995.0): \"Rainbow Fish to the Rescue!\",\n",
    "    (\"Robert Jordan\", 1994.0): \"Lord of Chaos\",\n",
    "    (\"Clement C. Moore, Jan Brett\", 1986.0): \"The Night Before Christmas\",\n",
    "    (\"Emily Seife\", 2012.0): \"The Hunger Games Tribute Guide\",\n",
    "    (\"John Bunyan\", 1678.0): \"The Pilgrim's Progress\",\n",
    "    (\"Robert Jordan\", 2000.0): \"Winter's Heart\",\n",
    "    (\"Alison Bechdel\", 2006.0): \"Fun Home: A Family Tragicomic\",\n",
    "    (\"Louis Sachar, Adam McCauley\", 1978.0): \"Sideways Stories from Wayside School\",\n",
    "    (\"L.J. Smith, Kevin Williamson, Julie Plec\", 2010.0): \"Origins\",\n",
    "    (\"Roberto Aguirre-Sacasa, Stephen King, Mike Perkins, Laura       Martin\", 2009.0): \"The Stand: American Nightmares\",\n",
    "    (\"Brent Weeks\", 2008.0): \"The Way of Shadows, Shadow's Edge, and Beyond the Shadows\",\n",
    "    (\"Laura Ingalls Wilder, Garth Williams\", 1937.0): \"On the Banks of Plum Creek\",\n",
    "    (\"Jodi Picoult\", 2016.0): \"Small Great Things\",\n",
    "    (\"Colleen Hoover\", 2015.0): \"Confess, Never Never\"\n",
    "}\n"
   ]
  },
  {
   "cell_type": "code",
   "execution_count": 7,
   "id": "57594382-7c1d-45c3-9ace-e6ab5c5f2887",
   "metadata": {},
   "outputs": [],
   "source": [
    "# Input missing value dari kolom Book Name berdasarkan Author dan Publishing Year\n",
    "\n",
    "for (author, year), title in book_name_fixes.items():\n",
    "    books_data.loc[\n",
    "        (books_data['Author'].str.contains(author, na=False)) & \n",
    "        (books_data['Publishing Year'] == year) &\n",
    "        (books_data['Book Name'].isna()),\n",
    "        'Book Name'\n",
    "    ] = title\n"
   ]
  },
  {
   "cell_type": "code",
   "execution_count": 8,
   "id": "92bcf7d7-9458-4326-b3c4-4dae1c9762f1",
   "metadata": {},
   "outputs": [
    {
     "data": {
      "text/html": [
       "<div>\n",
       "<style scoped>\n",
       "    .dataframe tbody tr th:only-of-type {\n",
       "        vertical-align: middle;\n",
       "    }\n",
       "\n",
       "    .dataframe tbody tr th {\n",
       "        vertical-align: top;\n",
       "    }\n",
       "\n",
       "    .dataframe thead th {\n",
       "        text-align: right;\n",
       "    }\n",
       "</style>\n",
       "<table border=\"1\" class=\"dataframe\">\n",
       "  <thead>\n",
       "    <tr style=\"text-align: right;\">\n",
       "      <th></th>\n",
       "      <th>index</th>\n",
       "      <th>Publishing Year</th>\n",
       "      <th>Book Name</th>\n",
       "      <th>Author</th>\n",
       "      <th>language_code</th>\n",
       "      <th>Author_Rating</th>\n",
       "      <th>Book_average_rating</th>\n",
       "      <th>Book_ratings_count</th>\n",
       "      <th>genre</th>\n",
       "      <th>gross sales</th>\n",
       "      <th>publisher revenue</th>\n",
       "      <th>sale price</th>\n",
       "      <th>sales rank</th>\n",
       "      <th>Publisher</th>\n",
       "      <th>units sold</th>\n",
       "    </tr>\n",
       "  </thead>\n",
       "  <tbody>\n",
       "    <tr>\n",
       "      <th>445</th>\n",
       "      <td>445</td>\n",
       "      <td>NaN</td>\n",
       "      <td>NaN</td>\n",
       "      <td>Robert Kapilow, Dr. Seuss</td>\n",
       "      <td>NaN</td>\n",
       "      <td>Famous</td>\n",
       "      <td>4.44</td>\n",
       "      <td>90574</td>\n",
       "      <td>nonfiction</td>\n",
       "      <td>532.22</td>\n",
       "      <td>319.332</td>\n",
       "      <td>2.99</td>\n",
       "      <td>493</td>\n",
       "      <td>Hachette Book Group</td>\n",
       "      <td>4806</td>\n",
       "    </tr>\n",
       "  </tbody>\n",
       "</table>\n",
       "</div>"
      ],
      "text/plain": [
       "     index  Publishing Year Book Name                     Author  \\\n",
       "445    445              NaN       NaN  Robert Kapilow, Dr. Seuss   \n",
       "\n",
       "    language_code Author_Rating  Book_average_rating  Book_ratings_count  \\\n",
       "445           NaN        Famous                 4.44               90574   \n",
       "\n",
       "          genre  gross sales  publisher revenue  sale price  sales rank  \\\n",
       "445  nonfiction       532.22            319.332        2.99         493   \n",
       "\n",
       "               Publisher  units sold  \n",
       "445  Hachette Book Group        4806  "
      ]
     },
     "execution_count": 8,
     "metadata": {},
     "output_type": "execute_result"
    }
   ],
   "source": [
    "# Cek sisa missing value\n",
    "books_data.loc[books_data['Book Name'].isna()]"
   ]
  },
  {
   "cell_type": "code",
   "execution_count": 9,
   "id": "ed4bd5ae-0feb-4df6-8319-4b7cde07cbde",
   "metadata": {},
   "outputs": [],
   "source": [
    "# Drop rows with missing 'Publishing Year' and 'Book Name'\n",
    "books_data = books_data.dropna(subset=['Publishing Year', 'Book Name']).copy()\n",
    "\n",
    "# Impute missing 'language_code' with mode\n",
    "most_common_lang = books_data['language_code'].mode()[0]\n",
    "books_data.loc[:, 'language_code'] = books_data['language_code'].fillna(most_common_lang)"
   ]
  },
  {
   "cell_type": "code",
   "execution_count": 10,
   "id": "e03a96cb-c09a-4227-9976-bf608b735665",
   "metadata": {},
   "outputs": [
    {
     "data": {
      "text/plain": [
       "index                  0.0\n",
       "Publishing Year        0.0\n",
       "Book Name              0.0\n",
       "Author                 0.0\n",
       "language_code          0.0\n",
       "Author_Rating          0.0\n",
       "Book_average_rating    0.0\n",
       "Book_ratings_count     0.0\n",
       "genre                  0.0\n",
       "gross sales            0.0\n",
       "publisher revenue      0.0\n",
       "sale price             0.0\n",
       "sales rank             0.0\n",
       "Publisher              0.0\n",
       "units sold             0.0\n",
       "dtype: float64"
      ]
     },
     "execution_count": 10,
     "metadata": {},
     "output_type": "execute_result"
    }
   ],
   "source": [
    "# Persentase missing value pada tiap kolom\n",
    "books_data.isnull().sum().sort_values(ascending=False)/len(books_data)*100"
   ]
  },
  {
   "cell_type": "code",
   "execution_count": 11,
   "id": "3350f4c9-cedf-4cbf-bb24-df42b3ad785d",
   "metadata": {},
   "outputs": [
    {
     "data": {
      "text/plain": [
       "index                    int64\n",
       "Publishing Year        float64\n",
       "Book Name               object\n",
       "Author                  object\n",
       "language_code           object\n",
       "Author_Rating           object\n",
       "Book_average_rating    float64\n",
       "Book_ratings_count       int64\n",
       "genre                   object\n",
       "gross sales            float64\n",
       "publisher revenue      float64\n",
       "sale price             float64\n",
       "sales rank               int64\n",
       "Publisher               object\n",
       "units sold               int64\n",
       "dtype: object"
      ]
     },
     "execution_count": 11,
     "metadata": {},
     "output_type": "execute_result"
    }
   ],
   "source": [
    "# mengecek tipe data tiap kolom\n",
    "books_data.dtypes"
   ]
  },
  {
   "cell_type": "code",
   "execution_count": 12,
   "id": "dab5a60b-76f1-46b4-b638-4760561c75ba",
   "metadata": {},
   "outputs": [
    {
     "data": {
      "text/plain": [
       "index                    int64\n",
       "Publishing Year          int64\n",
       "Book Name               object\n",
       "Author                  object\n",
       "language_code           object\n",
       "Author_Rating           object\n",
       "Book_average_rating    float64\n",
       "Book_ratings_count       int64\n",
       "genre                   object\n",
       "gross sales            float64\n",
       "publisher revenue      float64\n",
       "sale price             float64\n",
       "sales rank               int64\n",
       "Publisher               object\n",
       "units sold               int64\n",
       "dtype: object"
      ]
     },
     "execution_count": 12,
     "metadata": {},
     "output_type": "execute_result"
    }
   ],
   "source": [
    "# mengubah tipe data yang benar\n",
    "\n",
    "books_data[\"Publishing Year\"] = books_data[\"Publishing Year\"].astype(\"int64\")\n",
    "books_data.dtypes"
   ]
  },
  {
   "cell_type": "code",
   "execution_count": 13,
   "id": "6f8440c2-0080-413d-a37e-6f7ef4f00524",
   "metadata": {},
   "outputs": [
    {
     "data": {
      "text/html": [
       "<div>\n",
       "<style scoped>\n",
       "    .dataframe tbody tr th:only-of-type {\n",
       "        vertical-align: middle;\n",
       "    }\n",
       "\n",
       "    .dataframe tbody tr th {\n",
       "        vertical-align: top;\n",
       "    }\n",
       "\n",
       "    .dataframe thead th {\n",
       "        text-align: right;\n",
       "    }\n",
       "</style>\n",
       "<table border=\"1\" class=\"dataframe\">\n",
       "  <thead>\n",
       "    <tr style=\"text-align: right;\">\n",
       "      <th></th>\n",
       "      <th>index</th>\n",
       "      <th>Publishing Year</th>\n",
       "      <th>Book Name</th>\n",
       "      <th>Author</th>\n",
       "      <th>language_code</th>\n",
       "      <th>Author_Rating</th>\n",
       "      <th>Book_average_rating</th>\n",
       "      <th>Book_ratings_count</th>\n",
       "      <th>genre</th>\n",
       "      <th>gross sales</th>\n",
       "      <th>publisher revenue</th>\n",
       "      <th>sale price</th>\n",
       "      <th>sales rank</th>\n",
       "      <th>Publisher</th>\n",
       "      <th>units sold</th>\n",
       "    </tr>\n",
       "  </thead>\n",
       "  <tbody>\n",
       "  </tbody>\n",
       "</table>\n",
       "</div>"
      ],
      "text/plain": [
       "Empty DataFrame\n",
       "Columns: [index, Publishing Year, Book Name, Author, language_code, Author_Rating, Book_average_rating, Book_ratings_count, genre, gross sales, publisher revenue, sale price, sales rank, Publisher, units sold]\n",
       "Index: []"
      ]
     },
     "execution_count": 13,
     "metadata": {},
     "output_type": "execute_result"
    }
   ],
   "source": [
    "# Menyeleksi data yang dikategorikan sebagai data duplikat\n",
    "books_data[books_data.duplicated(keep=False)].sort_values(by=[\"Book Name\"])"
   ]
  },
  {
   "cell_type": "code",
   "execution_count": 14,
   "id": "a002c88f-a0ab-4ef9-add4-0e3fc4016df5",
   "metadata": {},
   "outputs": [
    {
     "data": {
      "text/plain": [
       "language_code\n",
       "eng      789\n",
       "en-US    234\n",
       "en-GB     30\n",
       "en-CA      7\n",
       "fre        4\n",
       "spa        2\n",
       "ara        2\n",
       "nl         1\n",
       "Name: count, dtype: int64"
      ]
     },
     "execution_count": 14,
     "metadata": {},
     "output_type": "execute_result"
    }
   ],
   "source": [
    "books_data[\"language_code\"].value_counts()"
   ]
  },
  {
   "cell_type": "code",
   "execution_count": 15,
   "id": "a9511ce5-3431-45ec-b492-3778bcc08a48",
   "metadata": {},
   "outputs": [
    {
     "data": {
      "text/plain": [
       "Author_Rating\n",
       "Intermediate    625\n",
       "Excellent       362\n",
       "Famous           52\n",
       "Novice           30\n",
       "Name: count, dtype: int64"
      ]
     },
     "execution_count": 15,
     "metadata": {},
     "output_type": "execute_result"
    }
   ],
   "source": [
    "books_data[\"Author_Rating\"].value_counts()"
   ]
  },
  {
   "cell_type": "code",
   "execution_count": 16,
   "id": "8606dee0-fe0e-48bd-804e-64e2c6b8019b",
   "metadata": {},
   "outputs": [
    {
     "data": {
      "text/plain": [
       "genre\n",
       "genre fiction    822\n",
       "nonfiction       170\n",
       "fiction           62\n",
       "children          15\n",
       "Name: count, dtype: int64"
      ]
     },
     "execution_count": 16,
     "metadata": {},
     "output_type": "execute_result"
    }
   ],
   "source": [
    "books_data[\"genre\"].value_counts()"
   ]
  },
  {
   "cell_type": "code",
   "execution_count": 17,
   "id": "8200bbac-2477-467f-9af7-3b57a6ca56a1",
   "metadata": {},
   "outputs": [
    {
     "data": {
      "text/plain": [
       "genre\n",
       "fiction       884\n",
       "nonfiction    170\n",
       "children       15\n",
       "Name: count, dtype: int64"
      ]
     },
     "execution_count": 17,
     "metadata": {},
     "output_type": "execute_result"
    }
   ],
   "source": [
    "# mapping inkonsisten kolom genre ke format yang benar\n",
    "genre_format = { \"genre fiction\" : \"fiction\"}\n",
    "\n",
    "# mengubah hasil mapping sehingga nilai menjadi seragam\n",
    "books_data[\"genre\"] = books_data[\"genre\"].replace(genre_format)\n",
    "\n",
    "# cek ulang format genre\n",
    "books_data[\"genre\"].value_counts()"
   ]
  },
  {
   "cell_type": "code",
   "execution_count": 18,
   "id": "6c149044-c956-4976-9728-4328893b8e06",
   "metadata": {},
   "outputs": [
    {
     "data": {
      "text/plain": [
       "Publisher\n",
       "Amazon Digital Services,  Inc.          600\n",
       "Random House LLC                        120\n",
       "Penguin Group (USA) LLC                 108\n",
       "HarperCollins Publishers                 71\n",
       "Hachette Book Group                      65\n",
       "Simon and Schuster Digital Sales Inc     56\n",
       "Macmillan                                41\n",
       "HarperCollins Publishing                  4\n",
       "HarperCollins Christian Publishing        4\n",
       "Name: count, dtype: int64"
      ]
     },
     "execution_count": 18,
     "metadata": {},
     "output_type": "execute_result"
    }
   ],
   "source": [
    "books_data[\"Publisher\"].value_counts()"
   ]
  },
  {
   "cell_type": "code",
   "execution_count": 19,
   "id": "71e609fe-7660-4edd-ab42-8f829c764f57",
   "metadata": {},
   "outputs": [
    {
     "name": "stdout",
     "output_type": "stream",
     "text": [
      "Total columns which has outliers: 8\n"
     ]
    }
   ],
   "source": [
    "# integer columns\n",
    "int_columns = [\"Publishing Year\", \"Book_ratings_count\", \"sales rank\", \"units sold\"]\n",
    "\n",
    "# float columns\n",
    "float_columns = [\"Book_average_rating\", \"gross sales\", \"publisher revenue\", \"sale price\"]\n",
    "\n",
    "outlier_columns = int_columns + float_columns\n",
    "\n",
    "print(f\"Total columns which has outliers: {len(outlier_columns)}\")"
   ]
  },
  {
   "cell_type": "code",
   "execution_count": 20,
   "id": "20e49382-c2df-4b04-8b69-d27b6f2ef02d",
   "metadata": {},
   "outputs": [
    {
     "name": "stdout",
     "output_type": "stream",
     "text": [
      "4\n"
     ]
    }
   ],
   "source": [
    "# Import math library\n",
    "import math\n",
    "\n",
    "# necessary row to make 2 column plots\n",
    "print(math.ceil(len(outlier_columns)/2))"
   ]
  },
  {
   "cell_type": "code",
   "execution_count": 21,
   "id": "3a6489af-0a0d-44d6-9a4a-ff96ef81ce85",
   "metadata": {},
   "outputs": [
    {
     "name": "stderr",
     "output_type": "stream",
     "text": [
      "C:\\Users\\talit\\AppData\\Local\\Temp\\ipykernel_3176\\3784241109.py:28: UserWarning: FigureCanvasAgg is non-interactive, and thus cannot be shown\n",
      "  fig.show()\n"
     ]
    },
    {
     "data": {
      "image/png": "[encoded data removed]",
      "text/plain": [
       "<Figure size 1000x1000 with 8 Axes>"
      ]
     },
     "metadata": {},
     "output_type": "display_data"
    }
   ],
   "source": [
    "# create subplots with 10x3 grids and size 12x30\n",
    "fig, ax = plt.subplots(4, 2, figsize=(10, 10))\n",
    "\n",
    "# counter for number of outlier_columns\n",
    "col = 0\n",
    "\n",
    "# loop through the grids\n",
    "for i in range(4):\n",
    "    \n",
    "    if col >= 8:\n",
    "        break\n",
    "    \n",
    "    for j in range(2):\n",
    "        \n",
    "        if col >= 8:\n",
    "            break\n",
    "        \n",
    "        # create boxplots for each column of outliers\n",
    "        ax[i,j].boxplot(books_data[outlier_columns[col]], vert = False)\n",
    "        ax[i,j].set_title(str(outlier_columns[col]), fontdict={'fontsize': 12})\n",
    "        \n",
    "        # increment counter\n",
    "        col += 1\n",
    "\n",
    "# make sure layout is not overlapping\n",
    "fig.tight_layout()\n",
    "# show the graphs\n",
    "fig.show()"
   ]
  },
  {
   "cell_type": "code",
   "execution_count": 22,
   "id": "d2f2b742-24c9-41ca-ab9a-86f4b16a44ce",
   "metadata": {},
   "outputs": [
    {
     "data": {
      "text/html": [
       "<div>\n",
       "<style scoped>\n",
       "    .dataframe tbody tr th:only-of-type {\n",
       "        vertical-align: middle;\n",
       "    }\n",
       "\n",
       "    .dataframe tbody tr th {\n",
       "        vertical-align: top;\n",
       "    }\n",
       "\n",
       "    .dataframe thead th {\n",
       "        text-align: right;\n",
       "    }\n",
       "</style>\n",
       "<table border=\"1\" class=\"dataframe\">\n",
       "  <thead>\n",
       "    <tr style=\"text-align: right;\">\n",
       "      <th></th>\n",
       "      <th>index</th>\n",
       "      <th>Publishing Year</th>\n",
       "      <th>Book_average_rating</th>\n",
       "      <th>Book_ratings_count</th>\n",
       "      <th>gross sales</th>\n",
       "      <th>publisher revenue</th>\n",
       "      <th>sale price</th>\n",
       "      <th>sales rank</th>\n",
       "      <th>units sold</th>\n",
       "    </tr>\n",
       "  </thead>\n",
       "  <tbody>\n",
       "    <tr>\n",
       "      <th>count</th>\n",
       "      <td>1069.000000</td>\n",
       "      <td>1069.000000</td>\n",
       "      <td>1069.000000</td>\n",
       "      <td>1069.000000</td>\n",
       "      <td>1069.000000</td>\n",
       "      <td>1069.000000</td>\n",
       "      <td>1069.000000</td>\n",
       "      <td>1069.000000</td>\n",
       "      <td>1069.000000</td>\n",
       "    </tr>\n",
       "    <tr>\n",
       "      <th>mean</th>\n",
       "      <td>534.583723</td>\n",
       "      <td>1971.377923</td>\n",
       "      <td>4.006595</td>\n",
       "      <td>94913.969130</td>\n",
       "      <td>1857.861862</td>\n",
       "      <td>843.771160</td>\n",
       "      <td>4.871319</td>\n",
       "      <td>611.763330</td>\n",
       "      <td>9681.536950</td>\n",
       "    </tr>\n",
       "    <tr>\n",
       "      <th>std</th>\n",
       "      <td>309.159198</td>\n",
       "      <td>185.080257</td>\n",
       "      <td>0.247004</td>\n",
       "      <td>31527.713028</td>\n",
       "      <td>3938.558251</td>\n",
       "      <td>2258.596467</td>\n",
       "      <td>3.561121</td>\n",
       "      <td>370.005111</td>\n",
       "      <td>15377.042555</td>\n",
       "    </tr>\n",
       "    <tr>\n",
       "      <th>min</th>\n",
       "      <td>0.000000</td>\n",
       "      <td>-560.000000</td>\n",
       "      <td>2.970000</td>\n",
       "      <td>27308.000000</td>\n",
       "      <td>104.940000</td>\n",
       "      <td>0.000000</td>\n",
       "      <td>0.990000</td>\n",
       "      <td>1.000000</td>\n",
       "      <td>106.000000</td>\n",
       "    </tr>\n",
       "    <tr>\n",
       "      <th>25%</th>\n",
       "      <td>267.000000</td>\n",
       "      <td>1985.000000</td>\n",
       "      <td>3.850000</td>\n",
       "      <td>70382.000000</td>\n",
       "      <td>371.250000</td>\n",
       "      <td>0.000000</td>\n",
       "      <td>1.990000</td>\n",
       "      <td>287.000000</td>\n",
       "      <td>550.000000</td>\n",
       "    </tr>\n",
       "    <tr>\n",
       "      <th>50%</th>\n",
       "      <td>535.000000</td>\n",
       "      <td>2003.000000</td>\n",
       "      <td>4.010000</td>\n",
       "      <td>89262.000000</td>\n",
       "      <td>810.840000</td>\n",
       "      <td>272.916000</td>\n",
       "      <td>3.990000</td>\n",
       "      <td>596.000000</td>\n",
       "      <td>3915.000000</td>\n",
       "    </tr>\n",
       "    <tr>\n",
       "      <th>75%</th>\n",
       "      <td>802.000000</td>\n",
       "      <td>2010.000000</td>\n",
       "      <td>4.170000</td>\n",
       "      <td>113915.000000</td>\n",
       "      <td>1488.270000</td>\n",
       "      <td>721.554000</td>\n",
       "      <td>6.990000</td>\n",
       "      <td>933.000000</td>\n",
       "      <td>5319.000000</td>\n",
       "    </tr>\n",
       "    <tr>\n",
       "      <th>max</th>\n",
       "      <td>1069.000000</td>\n",
       "      <td>2016.000000</td>\n",
       "      <td>4.770000</td>\n",
       "      <td>206792.000000</td>\n",
       "      <td>47795.000000</td>\n",
       "      <td>28677.000000</td>\n",
       "      <td>33.860000</td>\n",
       "      <td>1273.000000</td>\n",
       "      <td>61560.000000</td>\n",
       "    </tr>\n",
       "  </tbody>\n",
       "</table>\n",
       "</div>"
      ],
      "text/plain": [
       "             index  Publishing Year  Book_average_rating  Book_ratings_count  \\\n",
       "count  1069.000000      1069.000000          1069.000000         1069.000000   \n",
       "mean    534.583723      1971.377923             4.006595        94913.969130   \n",
       "std     309.159198       185.080257             0.247004        31527.713028   \n",
       "min       0.000000      -560.000000             2.970000        27308.000000   \n",
       "25%     267.000000      1985.000000             3.850000        70382.000000   \n",
       "50%     535.000000      2003.000000             4.010000        89262.000000   \n",
       "75%     802.000000      2010.000000             4.170000       113915.000000   \n",
       "max    1069.000000      2016.000000             4.770000       206792.000000   \n",
       "\n",
       "        gross sales  publisher revenue   sale price   sales rank    units sold  \n",
       "count   1069.000000        1069.000000  1069.000000  1069.000000   1069.000000  \n",
       "mean    1857.861862         843.771160     4.871319   611.763330   9681.536950  \n",
       "std     3938.558251        2258.596467     3.561121   370.005111  15377.042555  \n",
       "min      104.940000           0.000000     0.990000     1.000000    106.000000  \n",
       "25%      371.250000           0.000000     1.990000   287.000000    550.000000  \n",
       "50%      810.840000         272.916000     3.990000   596.000000   3915.000000  \n",
       "75%     1488.270000         721.554000     6.990000   933.000000   5319.000000  \n",
       "max    47795.000000       28677.000000    33.860000  1273.000000  61560.000000  "
      ]
     },
     "execution_count": 22,
     "metadata": {},
     "output_type": "execute_result"
    }
   ],
   "source": [
    "# menampilkan statistik deskriptif dari data\n",
    "books_data.describe()"
   ]
  },
  {
   "cell_type": "code",
   "execution_count": 23,
   "id": "7641289e-dcb4-4b19-8aeb-ae3aca679049",
   "metadata": {},
   "outputs": [
    {
     "data": {
      "text/plain": [
       "<Axes: xlabel='Publishing Year', ylabel='Count'>"
      ]
     },
     "execution_count": 23,
     "metadata": {},
     "output_type": "execute_result"
    },
    {
     "data": {
      "image/png": "[encoded data removed]",
      "text/plain": [
       "<Figure size 640x480 with 1 Axes>"
      ]
     },
     "metadata": {},
     "output_type": "display_data"
    }
   ],
   "source": [
    "# Memanggil library seaborn\n",
    "import seaborn as sns\n",
    "\n",
    "# Membuat histogram Publishing Year\n",
    "sns.histplot(data=books_data,x=\"Publishing Year\", bins=100)"
   ]
  },
  {
   "cell_type": "code",
   "execution_count": 25,
   "id": "b86c8d42-3d8d-4c17-9612-34d4aed7ba7e",
   "metadata": {
    "scrolled": true
   },
   "outputs": [
    {
     "data": {
      "text/html": [
       "<div>\n",
       "<style scoped>\n",
       "    .dataframe tbody tr th:only-of-type {\n",
       "        vertical-align: middle;\n",
       "    }\n",
       "\n",
       "    .dataframe tbody tr th {\n",
       "        vertical-align: top;\n",
       "    }\n",
       "\n",
       "    .dataframe thead th {\n",
       "        text-align: right;\n",
       "    }\n",
       "</style>\n",
       "<table border=\"1\" class=\"dataframe\">\n",
       "  <thead>\n",
       "    <tr style=\"text-align: right;\">\n",
       "      <th></th>\n",
       "      <th>Publishing Year</th>\n",
       "      <th>Book Name</th>\n",
       "      <th>Author</th>\n",
       "      <th>Publisher</th>\n",
       "    </tr>\n",
       "  </thead>\n",
       "  <tbody>\n",
       "    <tr>\n",
       "      <th>241</th>\n",
       "      <td>-380</td>\n",
       "      <td>Î Î¿Î»Î¹Ï„ÎµÎ¯Î±</td>\n",
       "      <td>Plato, Desmond Lee</td>\n",
       "      <td>Amazon Digital Services,  Inc.</td>\n",
       "    </tr>\n",
       "    <tr>\n",
       "      <th>293</th>\n",
       "      <td>-430</td>\n",
       "      <td>ÎŸá¼°Î´Î¯Ï€Î¿Ï…Ï‚ Î¤ÏÏÎ±Î½Î½Î¿Ï‚</td>\n",
       "      <td>Sophocles, J.E. Thomas</td>\n",
       "      <td>Hachette Book Group</td>\n",
       "    </tr>\n",
       "    <tr>\n",
       "      <th>568</th>\n",
       "      <td>-300</td>\n",
       "      <td>é“å¾·ç¶“ [dÃ o dÃ© jÄ«ng]</td>\n",
       "      <td>Lao Tzu, Gia-Fu Feng, Jane English, Chungliang...</td>\n",
       "      <td>Penguin Group (USA) LLC</td>\n",
       "    </tr>\n",
       "    <tr>\n",
       "      <th>589</th>\n",
       "      <td>-560</td>\n",
       "      <td>Aesopica</td>\n",
       "      <td>Aesop, Laura Harris, Laura Gibbs</td>\n",
       "      <td>Amazon Digital Services,  Inc.</td>\n",
       "    </tr>\n",
       "    <tr>\n",
       "      <th>749</th>\n",
       "      <td>-17</td>\n",
       "      <td>Ã†neis</td>\n",
       "      <td>Virgil, Robert Fitzgerald</td>\n",
       "      <td>Amazon Digital Services,  Inc.</td>\n",
       "    </tr>\n",
       "    <tr>\n",
       "      <th>990</th>\n",
       "      <td>-441</td>\n",
       "      <td>á¼ˆÎ½Ï„Î¹Î³ÏŒÎ½Î·</td>\n",
       "      <td>Sophocles, J.E. Thomas</td>\n",
       "      <td>Amazon Digital Services,  Inc.</td>\n",
       "    </tr>\n",
       "  </tbody>\n",
       "</table>\n",
       "</div>"
      ],
      "text/plain": [
       "     Publishing Year                           Book Name  \\\n",
       "241             -380                    Î Î¿Î»Î¹Ï„ÎµÎ¯Î±   \n",
       "293             -430  ÎŸá¼°Î´Î¯Ï€Î¿Ï…Ï‚ Î¤ÏÏÎ±Î½Î½Î¿Ï‚   \n",
       "568             -300          é“å¾·ç¶“ [dÃ o dÃ© jÄ«ng]   \n",
       "589             -560                            Aesopica   \n",
       "749              -17                              Ã†neis   \n",
       "990             -441                   á¼ˆÎ½Ï„Î¹Î³ÏŒÎ½Î·   \n",
       "\n",
       "                                                Author  \\\n",
       "241                                 Plato, Desmond Lee   \n",
       "293                             Sophocles, J.E. Thomas   \n",
       "568  Lao Tzu, Gia-Fu Feng, Jane English, Chungliang...   \n",
       "589                   Aesop, Laura Harris, Laura Gibbs   \n",
       "749                          Virgil, Robert Fitzgerald   \n",
       "990                             Sophocles, J.E. Thomas   \n",
       "\n",
       "                          Publisher  \n",
       "241  Amazon Digital Services,  Inc.  \n",
       "293             Hachette Book Group  \n",
       "568         Penguin Group (USA) LLC  \n",
       "589  Amazon Digital Services,  Inc.  \n",
       "749  Amazon Digital Services,  Inc.  \n",
       "990  Amazon Digital Services,  Inc.  "
      ]
     },
     "execution_count": 25,
     "metadata": {},
     "output_type": "execute_result"
    }
   ],
   "source": [
    "\n",
    "books_data.loc[books_data[\"Publishing Year\"] < 1000, [\"Publishing Year\", \"Book Name\", \"Author\", \"Publisher\"]]"
   ]
  },
  {
   "cell_type": "code",
   "execution_count": 26,
   "id": "89ab21b3-b341-44a4-b7de-be522688e94d",
   "metadata": {},
   "outputs": [],
   "source": [
    "def detect_outliers_iqr(data):\n",
    "    \n",
    "    # initialize list that contains the outliers\n",
    "    outliers = []\n",
    "    \n",
    "    # sort data values\n",
    "    data = sorted(data)\n",
    "    \n",
    "    # compute q1 and q3\n",
    "    q1 = np.percentile(data, 25)\n",
    "    q3 = np.percentile(data, 75)\n",
    "    \n",
    "    # compute the IQR\n",
    "    IQR = q3-q1\n",
    "    \n",
    "    # set the lower bound and upper bound\n",
    "    ## note that we can play with value 1.5 to widen or narrow the range\n",
    "    lower_bound = q1 - (1.5*IQR)\n",
    "    upper_bound = q3 + (1.5*IQR)\n",
    "    \n",
    "   # print computed lower and upper bound of a particular column\n",
    "    print(\"lower:\",lower_bound, \"upper:\", upper_bound)\n",
    "    \n",
    "    # for each data point, decide whether it falls below lower bound or above upper ground\n",
    "    for i in data:\n",
    "        if (i < lower_bound or i > upper_bound):\n",
    "            \n",
    "            outliers.append(i)\n",
    "            \n",
    "    return outliers"
   ]
  },
  {
   "cell_type": "code",
   "execution_count": 27,
   "id": "4ae1669e-b960-42f9-b0e6-bb225659c109",
   "metadata": {},
   "outputs": [
    {
     "name": "stdout",
     "output_type": "stream",
     "text": [
      "lower: 1947.5 upper: 2047.5\n",
      "number of outliers in column 'Publishing Year' is 122\n",
      "\n",
      "lower: 5082.5 upper: 179214.5\n",
      "number of outliers in column 'Book_ratings_count' is 13\n",
      "\n",
      "lower: -682.0 upper: 1902.0\n",
      "number of outliers in column 'sales rank' is 0\n",
      "\n",
      "lower: -6603.5 upper: 12472.5\n",
      "number of outliers in column 'units sold' is 204\n",
      "\n",
      "lower: 3.37 upper: 4.6499999999999995\n",
      "number of outliers in column 'Book_average_rating' is 16\n",
      "\n",
      "lower: -1304.28 upper: 3163.8\n",
      "number of outliers in column 'gross sales' is 129\n",
      "\n",
      "lower: -1082.331 upper: 1803.8849999999998\n",
      "number of outliers in column 'publisher revenue' is 95\n",
      "\n",
      "lower: -5.51 upper: 14.49\n",
      "number of outliers in column 'sale price' is 8\n",
      "\n"
     ]
    }
   ],
   "source": [
    "for col in outlier_columns:\n",
    "\n",
    "    outlier = detect_outliers_iqr(books_data[col])\n",
    "\n",
    "    print(\"number of outliers in column\", f\"'{str(col)}'\", \"is\", len(outlier))\n",
    "    print()\n"
   ]
  },
  {
   "cell_type": "code",
   "execution_count": 28,
   "id": "1289c9b1-e9b0-4e43-8450-4b723854b72a",
   "metadata": {},
   "outputs": [],
   "source": [
    "# Export_data\n",
    "books_data.to_csv(\"Books_Data_Cleaned.csv\")"
   ]
  }
 ],
 "metadata": {
  "kernelspec": {
   "display_name": "Python 3 (ipykernel)",
   "language": "python",
   "name": "python3"
  },
  "language_info": {
   "codemirror_mode": {
    "name": "ipython",
    "version": 3
   },
   "file_extension": ".py",
   "mimetype": "text/x-python",
   "name": "python",
   "nbconvert_exporter": "python",
   "pygments_lexer": "ipython3",
   "version": "3.12.7"
  }
 },
 "nbformat": 4,
 "nbformat_minor": 5
}
